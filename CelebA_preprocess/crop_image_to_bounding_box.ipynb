{
  "cells": [
    {
      "cell_type": "code",
      "execution_count": 1,
      "metadata": {
        "colab": {
          "base_uri": "https://localhost:8080/"
        },
        "id": "4mVZPLJQZVlz",
        "outputId": "fee31760-85ee-462b-cd54-4bcaced08698"
      },
      "outputs": [
        {
          "name": "stdout",
          "output_type": "stream",
          "text": [
            "Mounted at /content/drive\n"
          ]
        }
      ],
      "source": [
        "from google.colab import drive\n",
        "drive.mount('/content/drive')"
      ]
    },
    {
      "cell_type": "code",
      "execution_count": 14,
      "metadata": {
        "id": "oz3JMyDLZmB7"
      },
      "outputs": [],
      "source": [
        "import pandas as pd\n",
        "\n",
        "img_dir = '/content/drive/My Drive/CelebA/Img/img_align_celeba_32500 (1)'\n",
        "# Load labels.csv\n",
        "labels_df = pd.read_csv('/content/drive/My Drive/CelebA/Anno/labels_even_clean.csv', header=0, names=['Filename', 'High_Cheekbones', 'Mouth_Slightly_Open', 'Smiling'])\n",
        "\n",
        "# Load list_bbox_celeba.txt\n",
        "bbox_df = pd.read_csv('/content/drive/My Drive/CelebA/Anno/list_bbox_celeba.txt', delim_whitespace=True, header=1, dtype=object)\n",
        "\n",
        "# rename the first column of bbox_df to 'Filename'\n",
        "bbox_df.rename(columns={\"image_id\": \"Filename\"}, inplace=True)\n",
        "\n",
        "# Convert 'x_1', 'y_1', 'width' and 'height' columns of bbox_df to numeric\n",
        "bbox_df['x_1'] = pd.to_numeric(bbox_df['x_1'])\n",
        "bbox_df['y_1'] = pd.to_numeric(bbox_df['y_1'])\n",
        "bbox_df['width'] = pd.to_numeric(bbox_df['width'])\n",
        "bbox_df['height'] = pd.to_numeric(bbox_df['height'])\n",
        "\n",
        "# Merge labels_df and bbox_df\n",
        "merged_df = pd.merge(labels_df, bbox_df, on='Filename')"
      ]
    },
    {
      "cell_type": "code",
      "execution_count": 13,
      "metadata": {
        "colab": {
          "base_uri": "https://localhost:8080/"
        },
        "id": "asYr8QDibW2x",
        "outputId": "fab3b537-c325-484e-a788-e231ce2e4924"
      },
      "outputs": [
        {
          "name": "stdout",
          "output_type": "stream",
          "text": [
            "/content/drive/My Drive/CelebA/Img/img_align_celeba_32500 (1)\n"
          ]
        }
      ],
      "source": [
        "%cd /content/drive/My Drive/CelebA/Img/img_align_celeba_32500 (1)\n"
      ]
    },
    {
      "cell_type": "code",
      "execution_count": null,
      "metadata": {
        "id": "0f9xb3xqZpBJ"
      },
      "outputs": [],
      "source": [
        "from PIL import Image\n",
        "import os\n",
        "\n",
        "# Output directory to save cropped images\n",
        "output_dir = '/content/drive/My Drive/CelebA/Img/Cropped_Images'\n",
        "\n",
        "# Create output directory if it does not exist\n",
        "os.makedirs(output_dir, exist_ok=False)\n",
        "\n",
        "# Iterate through the merged DataFrame and crop images\n",
        "for index, row in merged_df.iterrows():\n",
        "    filename = os.path.join(img_dir, row['Filename'])\n",
        "    print(filename)\n",
        "    # bounding box coordinates are unusable for this dataset, use custom cropping coordinates\n",
        "    # x1, y1, width, height = row['x_1'], row['y_1'], row['width'], row['height']\n",
        "\n",
        "    # crop image by 40 pixels on all sides\n",
        "    x1, y1, width, height = 40, 40, 138, 178\n",
        "\n",
        "    # Open the original image\n",
        "    original_image = Image.open(filename)\n",
        "\n",
        "    # Crop the image based on the bounding box\n",
        "    cropped_image = original_image.crop((x1, y1, x1 + width, y1 + height))\n",
        "\n",
        "    # Save the cropped image to the output directory\n",
        "    output_filename = os.path.join(output_dir, row['Filename'])\n",
        "    cropped_image.save(output_filename)\n",
        "\n",
        "    # Optionally, you can resize the cropped image if needed\n",
        "    # cropped_image = cropped_image.resize((new_width, new_height))\n",
        "    # cropped_image.save(output_filename)\n"
      ]
    },
    {
      "cell_type": "code",
      "execution_count": null,
      "metadata": {
        "id": "AuZ36onBbOfh"
      },
      "outputs": [],
      "source": []
    }
  ],
  "metadata": {
    "colab": {
      "provenance": []
    },
    "kernelspec": {
      "display_name": "Python 3",
      "name": "python3"
    },
    "language_info": {
      "name": "python"
    }
  },
  "nbformat": 4,
  "nbformat_minor": 0
}
