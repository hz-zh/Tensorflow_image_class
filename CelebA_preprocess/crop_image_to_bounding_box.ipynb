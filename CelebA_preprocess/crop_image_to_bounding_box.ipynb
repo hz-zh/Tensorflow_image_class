{
  "nbformat": 4,
  "nbformat_minor": 0,
  "metadata": {
    "colab": {
      "provenance": []
    },
    "kernelspec": {
      "name": "python3",
      "display_name": "Python 3"
    },
    "language_info": {
      "name": "python"
    }
  },
  "cells": [
    {
      "cell_type": "code",
      "execution_count": 1,
      "metadata": {
        "colab": {
          "base_uri": "https://localhost:8080/"
        },
        "id": "4mVZPLJQZVlz",
        "outputId": "fee31760-85ee-462b-cd54-4bcaced08698"
      },
      "outputs": [
        {
          "output_type": "stream",
          "name": "stdout",
          "text": [
            "Mounted at /content/drive\n"
          ]
        }
      ],
      "source": [
        "from google.colab import drive\n",
        "drive.mount('/content/drive')"
      ]
    },
    {
      "cell_type": "code",
      "source": [
        "import pandas as pd\n",
        "\n",
        "img_dir = '/content/drive/My Drive/CelebA/Img/img_align_celeba_32500 (1)'\n",
        "# Load labels.csv\n",
        "labels_df = pd.read_csv('/content/drive/My Drive/CelebA/Anno/labels_even_clean.csv', header=0, names=['Filename', 'High_Cheekbones', 'Mouth_Slightly_Open', 'Smiling'])\n",
        "\n",
        "# Load list_bbox_celeba.txt\n",
        "bbox_df = pd.read_csv('/content/drive/My Drive/CelebA/Anno/list_bbox_celeba.txt', delim_whitespace=True, header=1, dtype=object)\n",
        "\n",
        "# rename the first column of bbox_df to 'Filename'\n",
        "bbox_df.rename(columns={\"image_id\": \"Filename\"}, inplace=True)\n",
        "\n",
        "# Convert 'x_1', 'y_1', 'width' and 'height' columns of bbox_df to numeric\n",
        "bbox_df['x_1'] = pd.to_numeric(bbox_df['x_1'])\n",
        "bbox_df['y_1'] = pd.to_numeric(bbox_df['y_1'])\n",
        "bbox_df['width'] = pd.to_numeric(bbox_df['width'])\n",
        "bbox_df['height'] = pd.to_numeric(bbox_df['height'])\n",
        "\n",
        "# Merge labels_df and bbox_df\n",
        "merged_df = pd.merge(labels_df, bbox_df, on='Filename')"
      ],
      "metadata": {
        "id": "oz3JMyDLZmB7"
      },
      "execution_count": 14,
      "outputs": []
    },
    {
      "cell_type": "code",
      "source": [
        "%cd /content/drive/My Drive/CelebA/Img/img_align_celeba_32500 (1)\n"
      ],
      "metadata": {
        "colab": {
          "base_uri": "https://localhost:8080/"
        },
        "id": "asYr8QDibW2x",
        "outputId": "fab3b537-c325-484e-a788-e231ce2e4924"
      },
      "execution_count": 13,
      "outputs": [
        {
          "output_type": "stream",
          "name": "stdout",
          "text": [
            "/content/drive/My Drive/CelebA/Img/img_align_celeba_32500 (1)\n"
          ]
        }
      ]
    },
    {
      "cell_type": "code",
      "source": [
        "from PIL import Image\n",
        "import os\n",
        "\n",
        "# Output directory to save cropped images\n",
        "output_dir = '/content/drive/My Drive/CelebA/Img/Cropped_Images'\n",
        "\n",
        "# Create output directory if it does not exist\n",
        "os.makedirs(output_dir, exist_ok=True)\n",
        "\n",
        "# Iterate through the merged DataFrame and crop images\n",
        "for index, row in merged_df.iterrows():\n",
        "    filename = os.path.join(img_dir, row['Filename'])\n",
        "    print(filename)\n",
        "   # x1, y1, width, height = row['x_1'], row['y_1'], row['width'], row['height']\n",
        "    # crop image by 60 pixels on all sides\n",
        "\n",
        "\n",
        "    # Open the original image\n",
        "    original_image = Image.open(filename)\n",
        "\n",
        "    # Crop the image based on the bounding box\n",
        "    cropped_image = original_image.crop((x1, y1, x1 + width, y1 + height))\n",
        "\n",
        "    # Save the cropped image to the output directory\n",
        "    output_filename = os.path.join(output_dir, row['Filename'])\n",
        "    cropped_image.save(output_filename)\n",
        "\n",
        "    # Optionally, you can resize the cropped image if needed\n",
        "    # cropped_image = cropped_image.resize((new_width, new_height))\n",
        "    # cropped_image.save(output_filename)\n"
      ],
      "metadata": {
        "id": "0f9xb3xqZpBJ"
      },
      "execution_count": null,
      "outputs": []
    },
    {
      "cell_type": "code",
      "source": [],
      "metadata": {
        "id": "AuZ36onBbOfh"
      },
      "execution_count": null,
      "outputs": []
    }
  ]
}