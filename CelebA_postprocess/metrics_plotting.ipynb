{
  "cells": [
    {
      "cell_type": "code",
      "execution_count": null,
      "metadata": {
        "colab": {
          "base_uri": "https://localhost:8080/"
        },
        "id": "QCSCvShzSyOl",
        "outputId": "9af8e364-a210-4089-99e0-8459a6f0187e"
      },
      "outputs": [
        {
          "name": "stdout",
          "output_type": "stream",
          "text": [
            "Drive already mounted at /content/drive; to attempt to forcibly remount, call drive.mount(\"/content/drive\", force_remount=True).\n"
          ]
        }
      ],
      "source": [
        "from google.colab import drive\n",
        "drive.mount('/content/drive')"
      ]
    },
    {
      "cell_type": "code",
      "execution_count": null,
      "metadata": {
        "id": "TgHK9izxWFQo"
      },
      "outputs": [],
      "source": [
        "import pandas as pd\n",
        "import matplotlib.pyplot as plt"
      ]
    },
    {
      "cell_type": "code",
      "execution_count": null,
      "metadata": {
        "id": "Hp75-hljDHW2"
      },
      "outputs": [],
      "source": [
        "labels = pd.read_csv('/content/drive/My Drive/CelebA/Anno/labels_even_clean.csv', header=0, names=['Filename', 'High_Cheekbones', 'Mouth_Slightly_Open', 'Smiling'])"
      ]
    },
    {
      "cell_type": "code",
      "execution_count": null,
      "metadata": {
        "id": "Zu0W4KC_FTek"
      },
      "outputs": [],
      "source": [
        "# plot the distribution of the classes\n",
        "# Sum the values in the specified columns\n",
        "sums = labels[['High_Cheekbones', 'Mouth_Slightly_Open', 'Smiling']].sum()\n",
        "\n",
        "# Plot the sums using a bar graph\n",
        "plt.bar(sums.index, sums.values, color=['skyblue', 'orange', 'lightgreen'])\n",
        "\n",
        "# Add a line and label at the top of each bar with the exact sum\n",
        "for index, value in enumerate(sums):\n",
        "    plt.text(index, value + 0.05, str(value), ha='center')\n",
        "\n",
        "plt.xlabel('Attributes')\n",
        "plt.ylabel('Sum')\n",
        "plt.title('Class Densities')\n",
        "plt.show()"
      ]
    },
    {
      "cell_type": "code",
      "execution_count": null,
      "metadata": {
        "id": "4r1RailxVwlY"
      },
      "outputs": [],
      "source": [
        "df1_c = pd.read_csv('/content/drive/My Drive/CelebA/Saved_models/Custom_Narrow_Model_3_Classes/metrics/5382499_10E_cropped.csv')\n",
        "df2_c = pd.read_csv('/content/drive/My Drive/CelebA/Saved_models/Custom_Narrow_Model_3_Classes/metrics/5382499_10+10E_cropped.csv')\n",
        "df3_c = pd.read_csv('/content/drive/My Drive/CelebA/Saved_models/Custom_Narrow_Model_3_Classes/metrics/5382499_10+10E+10E_cropped.csv')\n",
        "df4_c = pd.read_csv('/content/drive/My Drive/CelebA/Saved_models/Custom_Narrow_Model_3_Classes/metrics/5382499_10+10E+10E+10E_cropped.csv')\n",
        "df5_c = pd.read_csv('/content/drive/My Drive/CelebA/Saved_models/Custom_Narrow_Model_3_Classes/metrics/5382499_10+10E+10E+10E+10E_cropped.csv')\n"
      ]
    },
    {
      "cell_type": "code",
      "execution_count": null,
      "metadata": {},
      "outputs": [],
      "source": [
        "df1_uc = pd.read_csv('/content/drive/My Drive/CelebA/Saved_models/Custom_Narrow_Model_3_Classes/metrics/5382499_10E_uncropped.csv')\n",
        "df2_uc = pd.read_csv('/content/drive/My Drive/CelebA/Saved_models/Custom_Narrow_Model_3_Classes/metrics/5382499_10+10E_uncropped.csv')\n",
        "df3_uc = pd.read_csv('/content/drive/My Drive/CelebA/Saved_models/Custom_Narrow_Model_3_Classes/metrics/5382499_10+10E+10E_uncropped.csv')\n",
        "df4_uc = pd.read_csv('/content/drive/My Drive/CelebA/Saved_models/Custom_Narrow_Model_3_Classes/metrics/5382499_10+10E+10E+10E_uncropped.csv')\n",
        "df5_uc = pd.read_csv('/content/drive/My Drive/CelebA/Saved_models/Custom_Narrow_Model_3_Classes/metrics/5382499_10+10E+10E+10E+10E_uncropped.csv')"
      ]
    },
    {
      "cell_type": "code",
      "execution_count": 99,
      "metadata": {
        "id": "UBEkZoVEaPhn"
      },
      "outputs": [],
      "source": [
        "df_cropped = pd.concat([df1_c, df2_c, df3_c, df4_c, df5_c])"
      ]
    },
    {
      "cell_type": "code",
      "execution_count": null,
      "metadata": {
        "id": "pD5mdqFBWpzd"
      },
      "outputs": [],
      "source": [
        "df_uncropped = pd.concat([df1_uc, df2_uc, df3_uc, df4_uc, df5_uc])"
      ]
    },
    {
      "cell_type": "code",
      "execution_count": 100,
      "metadata": {
        "id": "HP_TdBZpW7kW"
      },
      "outputs": [],
      "source": [
        "df_uncropped.reset_index(drop=True, inplace=True)\n",
        "df_cropped.reset_index(drop=True, inplace=True)\n",
        "\n",
        "df_uncropped.insert(loc=0, column='epoch', value=df_uncropped.index)\n",
        "df_cropped.insert(loc=0, column='epoch', value=df_cropped.index)"
      ]
    },
    {
      "cell_type": "code",
      "execution_count": 102,
      "metadata": {
        "id": "qHSCh7kjYamm"
      },
      "outputs": [],
      "source": [
        "df_uncropped['epoch'] = df_uncropped['epoch'] + 1\n",
        "df_cropped['epoch'] = df_cropped['epoch'] + 1"
      ]
    },
    {
      "cell_type": "code",
      "execution_count": null,
      "metadata": {},
      "outputs": [],
      "source": []
    },
    {
      "cell_type": "code",
      "execution_count": 31,
      "metadata": {
        "id": "V5JG3PtLYeNv"
      },
      "outputs": [],
      "source": [
        "# remove last row or rows if your data overflows\n",
        "#df_uncropped.drop(df.tail(1).index,inplace=True)\n",
        "#df_cropped.drop(df.tail(1).index,inplace=True)"
      ]
    },
    {
      "cell_type": "code",
      "execution_count": 22,
      "metadata": {
        "id": "aG7ai3M5YtBA"
      },
      "outputs": [],
      "source": [
        "df_uncropped.to_csv('/content/drive/My Drive/CelebA/Saved_models/VGG16_Transfer_3_Classes_Square/metrics/14882243_16E_uncropped.csv', index=False)\n",
        "df_cropped.to_csv('/content/drive/My Drive/CelebA/Saved_models/Custom_Convo_Model_3_Classes_v5/metrics/14882243_16E_cropped.csv', index=False)"
      ]
    },
    {
      "cell_type": "code",
      "execution_count": null,
      "metadata": {
        "colab": {
          "base_uri": "https://localhost:8080/",
          "height": 472
        },
        "id": "8K4DJbncXWPZ",
        "outputId": "5f064058-5173-4951-b80e-c68f0e11375b"
      },
      "outputs": [],
      "source": [
        "plt.plot(df_cropped['epoch'], df_cropped['loss'], label='Cropped')\n",
        "plt.plot(df_uncropped['epoch'], df_uncropped['loss'], label='Uncropped')\n",
        "\n",
        "# Add a point at the end of each line with a label for its y value\n",
        "plt.scatter(df_cropped['epoch'].iloc[-1], df_cropped['loss'].iloc[-1], color='blue', label=f\"Cropped: {df_cropped['loss'].iloc[-1]:.2f}\", zorder=5)\n",
        "plt.scatter(df_uncropped['epoch'].iloc[-1], df_uncropped['loss'].iloc[-1], color='orange', label=f\"Uncropped: {df_uncropped['loss'].iloc[-1]:.2f}\", zorder=5)\n",
        "\n",
        "plt.xlabel('Epoch')\n",
        "plt.ylabel('Loss')\n",
        "plt.title('Loss vs. Epoch (VGG16)')\n",
        "plt.legend()\n",
        "plt.ylim(0, 1.4)\n",
        "plt.show()\n"
      ]
    },
    {
      "cell_type": "code",
      "execution_count": null,
      "metadata": {
        "colab": {
          "base_uri": "https://localhost:8080/",
          "height": 472
        },
        "id": "-BV902_taErB",
        "outputId": "da302469-e616-4a89-b690-d688cd54eeb8"
      },
      "outputs": [],
      "source": [
        "plt.plot(df_cropped['epoch'], df_cropped['val_loss'], label='Cropped')\n",
        "plt.plot(df_uncropped['epoch'], df_uncropped['val_loss'], label='Uncropped')\n",
        "\n",
        "# Add a point at the end of each line with a label for its y value\n",
        "plt.scatter(df_cropped['epoch'].iloc[-1], df_cropped['val_loss'].iloc[-1], color='blue', label=f\"Cropped: {df_cropped['val_loss'].iloc[-1]:.2f}\", zorder=5)\n",
        "plt.scatter(df_uncropped['epoch'].iloc[-1], df_uncropped['val_loss'].iloc[-1], color='orange', label=f\"Uncropped: {df_uncropped['val_loss'].iloc[-1]:.2f}\", zorder=5)\n",
        "\n",
        "plt.xlabel('Epoch')\n",
        "plt.ylabel('Validation Loss')\n",
        "plt.title('Validation Loss vs. Epoch (VGG16)')\n",
        "plt.legend()\n",
        "plt.ylim(0, 1.2)  # You can adjust the y-axis limits according to your data\n",
        "plt.show()\n"
      ]
    },
    {
      "cell_type": "code",
      "execution_count": null,
      "metadata": {
        "colab": {
          "base_uri": "https://localhost:8080/",
          "height": 472
        },
        "id": "2a8zDIZlhTfw",
        "outputId": "6b3afc4b-1b59-4ce7-d43b-0ba8554dc56f"
      },
      "outputs": [],
      "source": [
        "# Calculate the average accuracy for cropped and uncropped data\n",
        "df_cropped['average_accuracy'] = df_cropped[['High_Cheekbones_accuracy', 'Mouth_Slightly_Open_accuracy', 'Smiling_accuracy']].mean(axis=1)\n",
        "df_uncropped['average_accuracy'] = df_uncropped[['High_Cheekbones_accuracy', 'Mouth_Slightly_Open_accuracy', 'Smiling_accuracy']].mean(axis=1)\n",
        "\n",
        "# Plot the average accuracy\n",
        "plt.plot(df_cropped['epoch'], df_cropped['average_accuracy'], label='Cropped')\n",
        "plt.plot(df_uncropped['epoch'], df_uncropped['average_accuracy'], label='Uncropped')\n",
        "\n",
        "# Add a point at the end of each line with a label for its y value\n",
        "plt.scatter(df_cropped['epoch'].iloc[-1], df_cropped['average_accuracy'].iloc[-1], color='blue', label=f\"Cropped: {df_cropped['average_accuracy'].iloc[-1]:.2f}\", zorder=5)\n",
        "plt.scatter(df_uncropped['epoch'].iloc[-1], df_uncropped['average_accuracy'].iloc[-1], color='orange', label=f\"Uncropped: {df_uncropped['average_accuracy'].iloc[-1]:.2f}\", zorder=5)\n",
        "\n",
        "plt.xlabel('Epoch')\n",
        "plt.ylabel('Average Accuracy')\n",
        "plt.title('Average Accuracy vs. Epoch (VGG16)')\n",
        "plt.legend()\n",
        "# You can adjust the y-axis limits according to your data\n",
        "plt.ylim(.7, 1)\n",
        "plt.show()\n"
      ]
    },
    {
      "cell_type": "code",
      "execution_count": null,
      "metadata": {
        "colab": {
          "base_uri": "https://localhost:8080/",
          "height": 472
        },
        "id": "33c3Gvwvhb1w",
        "outputId": "a38c7f69-c05b-47ed-da7f-6072dba8bc88"
      },
      "outputs": [],
      "source": [
        "# Calculate the average validation accuracy for cropped and uncropped data\n",
        "df_cropped['average_val_accuracy'] = df_cropped[['val_High_Cheekbones_accuracy', 'val_Mouth_Slightly_Open_accuracy', 'val_Smiling_accuracy']].mean(axis=1)\n",
        "df_uncropped['average_val_accuracy'] = df_uncropped[['val_High_Cheekbones_accuracy', 'val_Mouth_Slightly_Open_accuracy', 'val_Smiling_accuracy']].mean(axis=1)\n",
        "\n",
        "# Plot the average validation accuracy\n",
        "plt.plot(df_cropped['epoch'], df_cropped['average_val_accuracy'], label='Cropped')\n",
        "plt.plot(df_uncropped['epoch'], df_uncropped['average_val_accuracy'], label='Uncropped')\n",
        "\n",
        "# Add a point at the end of each line with a label for its y value\n",
        "plt.scatter(df_cropped['epoch'].iloc[-1], df_cropped['average_val_accuracy'].iloc[-1], color='blue', label=f\"Cropped: {df_cropped['average_val_accuracy'].iloc[-1]:.2f}\", zorder=5)\n",
        "plt.scatter(df_uncropped['epoch'].iloc[-1], df_uncropped['average_val_accuracy'].iloc[-1], color='orange', label=f\"Uncropped: {df_uncropped['average_val_accuracy'].iloc[-1]:.2f}\", zorder=5)\n",
        "\n",
        "plt.xlabel('Epoch')\n",
        "plt.ylabel('Average Validation Accuracy')\n",
        "plt.title('Average Validation Accuracy vs. Epoch (VGG16)')\n",
        "plt.legend()\n",
        "# You can adjust the y-axis limits according to your data\n",
        "plt.ylim(.7, 1)\n",
        "plt.show()\n"
      ]
    },
    {
      "cell_type": "code",
      "execution_count": null,
      "metadata": {
        "id": "s2IDUHKdiD1V"
      },
      "outputs": [],
      "source": []
    }
  ],
  "metadata": {
    "colab": {
      "provenance": []
    },
    "kernelspec": {
      "display_name": "Python 3",
      "name": "python3"
    },
    "language_info": {
      "name": "python"
    }
  },
  "nbformat": 4,
  "nbformat_minor": 0
}
