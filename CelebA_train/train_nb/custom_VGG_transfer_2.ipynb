{
  "nbformat": 4,
  "nbformat_minor": 0,
  "metadata": {
    "colab": {
      "private_outputs": true,
      "provenance": [],
      "machine_shape": "hm",
      "gpuType": "T4"
    },
    "kernelspec": {
      "name": "python3",
      "display_name": "Python 3"
    },
    "language_info": {
      "name": "python"
    },
    "accelerator": "GPU"
  },
  "cells": [
    {
      "cell_type": "code",
      "source": [
        "from google.colab import drive\n",
        "drive.mount('/content/drive')"
      ],
      "metadata": {
        "id": "555gxJm1aZd8"
      },
      "execution_count": null,
      "outputs": []
    },
    {
      "cell_type": "code",
      "source": [
        "from tensorflow import keras\n",
        "%pip install git+https://github.com/keras-team/keras-preprocessing.git\n",
        "from keras_preprocessing.image import ImageDataGenerator\n",
        "from tensorflow.keras import layers, models\n",
        "from tensorflow.keras.layers.experimental import preprocessing\n",
        "from tensorflow.keras.layers import Dropout\n",
        "from sklearn.model_selection import train_test_split\n",
        "import os, warnings\n",
        "import matplotlib.pyplot as plt\n",
        "from matplotlib import gridspec\n",
        "import cv2\n",
        "import numpy as np\n",
        "import tensorflow as tf\n",
        "from tensorflow.keras.preprocessing import image_dataset_from_directory\n",
        "import gc"
      ],
      "metadata": {
        "id": "SvN-ccTMsZA5"
      },
      "execution_count": null,
      "outputs": []
    },
    {
      "cell_type": "code",
      "source": [
        "import pandas as pd\n",
        "\n",
        "img_dir = '/content/drive/My Drive/CelebA/Img/img_align_celeba_32500'\n",
        "# Load labels.csv\n",
        "labels_df = pd.read_csv('/content/drive/My Drive/CelebA/Anno/labels_even.csv', header=0)\n",
        "\n",
        "# Load list_bbox_celeba.txt\n",
        "bbox_df = pd.read_csv('/content/drive/My Drive/CelebA/Anno/list_bbox_celeba.txt', delim_whitespace=True, header=1, dtype=object)\n",
        "\n",
        "# rename the first column of bbox_df to 'Filename'\n",
        "bbox_df.rename(columns={\"image_id\": \"Filename\"}, inplace=True)\n",
        "\n",
        "# Convert 'x_1', 'y_1', 'width' and 'height' columns of bbox_df to numeric\n",
        "bbox_df['x_1'] = pd.to_numeric(bbox_df['x_1'])\n",
        "bbox_df['y_1'] = pd.to_numeric(bbox_df['y_1'])\n",
        "bbox_df['width'] = pd.to_numeric(bbox_df['width'])\n",
        "bbox_df['height'] = pd.to_numeric(bbox_df['height'])\n",
        "\n",
        "# Merge labels_df and bbox_df\n",
        "merged_df = pd.merge(labels_df, bbox_df, on='Filename')"
      ],
      "metadata": {
        "id": "iCiSGW65aY-s"
      },
      "execution_count": null,
      "outputs": []
    },
    {
      "cell_type": "code",
      "source": [
        "merged_df['x_normalized'] = merged_df['x_1'] / merged_df['width']\n",
        "merged_df['y_normalized'] = merged_df['y_1'] / merged_df['height']\n",
        "merged_df['width_normalized'] = merged_df['width'] / merged_df['width']\n",
        "merged_df['height_normalized'] = merged_df['height'] / merged_df['height']\n",
        "\n",
        "# remove columns 'x_1', 'y_1', 'width' and 'height'\n",
        "merged_df.drop(['x_1', 'y_1', 'width', 'height'], axis=1, inplace=True)"
      ],
      "metadata": {
        "id": "NAbA15u9sYgD"
      },
      "execution_count": null,
      "outputs": []
    },
    {
      "cell_type": "code",
      "source": [
        "train, valid = train_test_split(merged_df, test_size = 0.3)\n",
        "valid, test = train_test_split(valid, test_size=0.2)\n",
        "train_features = train[[\"High_Cheekbones\", \"Mouth_Slightly_Open\",\"Smiling\"]]\n",
        "train,valid,test"
      ],
      "metadata": {
        "id": "Jmt7Tunzsi0-"
      },
      "execution_count": null,
      "outputs": []
    },
    {
      "cell_type": "code",
      "execution_count": null,
      "metadata": {
        "id": "kZed-TvEDu9n"
      },
      "outputs": [],
      "source": [
        "# Define list of class names (subset of the classes listed in `list_attr_celeba.txt`)\n",
        "class_names = [\"High_Cheekbones\", \"Mouth_Slightly_Open\", \"Smiling\"]\n",
        "\n",
        "# Reproducability\n",
        "def set_seed(seed=31415):\n",
        "    np.random.seed(seed)\n",
        "    tf.random.set_seed(seed)\n",
        "    os.environ['PYTHONHASHSEED'] = str(seed)\n",
        "    #os.environ['TF_DETERMINISTIC_OPS'] = '1'\n",
        "set_seed()\n",
        "\n",
        "def custom_augmentation(np_tensor):\n",
        "\n",
        "  def random_contrast(np_tensor):\n",
        "    return tf.image.random_contrast(np_tensor, 0.5, 2)\n",
        "\n",
        "  augmnted_tensor = random_contrast(np_tensor)\n",
        "  return np.array(augmnted_tensor)\n",
        "\n",
        "# Load training and validation sets\n",
        "datagen=ImageDataGenerator(rescale=1./255.,\n",
        "                          rotation_range=45,\n",
        "                          horizontal_flip=True,\n",
        "                          vertical_flip=True,\n",
        "                          preprocessing_function=custom_augmentation)\n",
        "valid_datagen=ImageDataGenerator(rescale=1./255.,\n",
        "                                rotation_range=45,\n",
        "                                horizontal_flip=True,\n",
        "                                vertical_flip=True,\n",
        "                                preprocessing_function=custom_augmentation)\n",
        "test_datagen=ImageDataGenerator(rescale=1./255.)\n",
        "\n",
        "train_generator = datagen.flow_from_dataframe(\n",
        "    dataframe=train,\n",
        "    directory=img_dir,\n",
        "    x_col='Filename',\n",
        "    y_col=class_names,\n",
        "    save_format='jpg',\n",
        "    batch_size=25,\n",
        "    seed=42,\n",
        "    shuffle=False,\n",
        "    class_mode=\"raw\",\n",
        "    target_size=(178, 218)\n",
        ")\n",
        "\n",
        "valid_generator = valid_datagen.flow_from_dataframe(\n",
        "    dataframe=valid,\n",
        "    directory=img_dir,\n",
        "    x_col='Filename',\n",
        "    y_col=class_names,\n",
        "    save_format='jpg',\n",
        "    batch_size=25,\n",
        "    seed=42,\n",
        "    shuffle=True,\n",
        "    class_mode=\"raw\",\n",
        "    target_size=(178,218)\n",
        ")\n",
        "\n",
        "test_generator = test_datagen.flow_from_dataframe(\n",
        "    dataframe=test,\n",
        "    directory=img_dir,\n",
        "    x_col='Filename',\n",
        "    batch_size=15,\n",
        "    seed=42,\n",
        "    shuffle=False,\n",
        "    class_mode=None,\n",
        "    target_size=(128, 128)\n",
        ")\n",
        "\n",
        "# Data Pipeline\n",
        "def convert_to_float(image, label):\n",
        "    image = tf.image.convert_image_dtype(image, dtype=tf.float32)\n",
        "    return image, label\n",
        "\n",
        "AUTOTUNE = tf.data.experimental.AUTOTUNE\n",
        "ds_train = tf.data.Dataset.from_generator(\n",
        "    lambda: train_generator,\n",
        "    output_types=(tf.float32, tf.float32),\n",
        "    output_shapes=([None, 128, 128, 3], [None, len(class_names)])\n",
        ").map(convert_to_float).cache().prefetch(buffer_size=AUTOTUNE)\n",
        "\n",
        "ds_valid = tf.data.Dataset.from_generator(\n",
        "    lambda: valid_generator,\n",
        "    output_types=(tf.float32, tf.float32),\n",
        "    output_shapes=([None, 128, 128, 3], [None, len(class_names)])\n",
        ").map(convert_to_float).cache().prefetch(buffer_size=AUTOTUNE)\n",
        "\n",
        "'''ds_test = tf.data.Dataset.from_generator(\n",
        "    lambda: test_generator,\n",
        "    output_types=(tf.float32, tf.float32),\n",
        "    output_shapes=([None, 128, 128, 3], [None, len(class_names)])\n",
        ").map(convert_to_float).cache().prefetch(buffer_size=AUTOTUNE)\n",
        "'''"
      ]
    },
    {
      "cell_type": "code",
      "source": [
        "import tensorflow.keras.backend as K\n",
        "K.clear_session()"
      ],
      "metadata": {
        "id": "kJrQ6GS3eZi_"
      },
      "execution_count": null,
      "outputs": []
    },
    {
      "cell_type": "code",
      "source": [
        "from tensorflow.keras.applications import VGG16\n",
        "from tensorflow.keras.layers import Input, GlobalAveragePooling2D, Dense\n",
        "from tensorflow.keras.models import Model\n",
        "from tensorflow.keras.metrics import Precision, Recall, AUC\n",
        "\n",
        "# Load pre-trained VGG16 model without top layers\n",
        "base_model = VGG16(\n",
        "    weights='imagenet',\n",
        "    include_top=False,\n",
        "    input_shape=(218, 178, 3)\n",
        ")\n",
        "\n",
        "num_classes = len(class_names)\n",
        "\n",
        "# Define input layer (adjust the shape based on your input images)\n",
        "input_tensor = Input(shape=(218, 178, 3), name='input_01')\n",
        "\n",
        "# Pass input through VGG16 base model\n",
        "x = base_model(input_tensor)\n",
        "\n",
        "# Add GlobalAveragePooling2D layer to reduce spatial dimensions\n",
        "x = GlobalAveragePooling2D()(x)\n",
        "\n",
        "# Add output layer for class predictions\n",
        "output_1 = Dense(1, activation='softmax', name='High_Cheekbones')(x)\n",
        "Dense(1, activation='sigmoid', name='Mouth_Slightly_Open')(x)\n",
        "\n",
        "# Create the model with a specific name\n",
        "model = Model(inputs=input_tensor, outputs=class_output, name='VGG16_transfer')\n",
        "\n",
        "# Compile the model\n",
        "model.compile(\n",
        "    optimizer='adam',\n",
        "    loss='categorical_crossentropy',\n",
        "    metrics=['accuracy', 'precision', 'recall']\n",
        ")\n",
        "\n",
        "# Print model summary\n",
        "model.summary()"
      ],
      "metadata": {
        "id": "q9jPf9OsuzrX"
      },
      "execution_count": null,
      "outputs": []
    },
    {
      "cell_type": "code",
      "source": [
        "inputs = tf.keras.layers.Input(shape=(128, 128, 3))\n",
        "x = tf.keras.layers.Conv2D(32, (3, 3), activation='relu')(inputs)\n",
        "x = tf.keras.layers.MaxPooling2D((2, 2))(x)\n",
        "x = tf.keras.layers.Dropout(0.25)(x)\n",
        "x = tf.keras.layers.Conv2D(64, (3, 3), activation='relu')(x)\n",
        "x = tf.keras.layers.MaxPooling2D((2, 2))(x)\n",
        "x = tf.keras.layers.Dropout(0.25)(x)\n",
        "x = tf.keras.layers.Conv2D(128, (3, 3), activation='relu')(x)\n",
        "x = tf.keras.layers.MaxPooling2D((2, 2))(x)\n",
        "x = tf.keras.layers.Dropout(0.25)(x)\n",
        "x = tf.keras.layers.Conv2D(256, (3, 3), activation='relu')(x)\n",
        "x = tf.keras.layers.MaxPooling2D((2, 2))(x)\n",
        "x = tf.keras.layers.Dropout(0.25)(x)\n",
        "x = tf.keras.layers.Flatten()(x)\n",
        "x = tf.keras.layers.Dense(256, activation='relu')(x)\n",
        "x = tf.keras.layers.Dropout(0.50)(x)\n",
        "output1 = tf.keras.layers.Dense(1, activation='sigmoid', name='Arched_Eyebrows')(x)\n",
        "output2 = tf.keras.layers.Dense(1, activation='sigmoid', name='Bags_Under_Eyes')(x)\n",
        "output3 = tf.keras.layers.Dense(1, activation='sigmoid', name='Bangs')(x)\n",
        "output4 = tf.keras.layers.Dense(1, activation='sigmoid', name='Black_Hair')(x)\n",
        "output5 = tf.keras.layers.Dense(1, activation='sigmoid', name='Blond_Hair')(x)\n",
        "output6 = tf.keras.layers.Dense(1, activation='sigmoid', name='Brown_Hair')(x)\n",
        "output7 = tf.keras.layers.Dense(1, activation='sigmoid', name='Eyeglasses')(x)\n",
        "output8 = tf.keras.layers.Dense(1, activation='sigmoid', name='Gray_Hair')(x)\n",
        "output9 = tf.keras.layers.Dense(1, activation='sigmoid', name='Heavy_Makeup')(x)\n",
        "output10 = tf.keras.layers.Dense(1, activation='sigmoid', name='High_Cheekbones')(x)\n",
        "output11 = tf.keras.layers.Dense(1, activation='sigmoid', name='Mouth_Slightly_Open')(x)\n",
        "output12 = tf.keras.layers.Dense(1, activation='sigmoid', name='Mustache')(x)\n",
        "output13 = tf.keras.layers.Dense(1, activation='sigmoid', name='Narrow_Eyes')(x)\n",
        "output14 = tf.keras.layers.Dense(1, activation='sigmoid', name='Rosy_Cheeks')(x)\n",
        "output15 = tf.keras.layers.Dense(1, activation='sigmoid', name='Smiling')(x)\n",
        "output16 = tf.keras.layers.Dense(1, activation='sigmoid', name='Straight_Hair')(x)\n",
        "output17 = tf.keras.layers.Dense(1, activation='sigmoid', name='Wavy_Hair')(x)\n",
        "output18 = tf.keras.layers.Dense(1, activation='sigmoid', name='Wearing_Earrings')(x)\n",
        "output19 = tf.keras.layers.Dense(1, activation='sigmoid', name='Wearing_Hat')(x)\n",
        "output20 = tf.keras.layers.Dense(1, activation='sigmoid', name='Wearing_Lipstick')(x)\n",
        "output21 = tf.keras.layers.Dense(1, activation='sigmoid', name='Wearing_Necklace')(x)\n",
        "\n",
        "model = tf.keras.models.Model(inputs=inputs, outputs=[\n",
        "                                                      output1,\n",
        "                                                      output2,\n",
        "                                                      output3,\n",
        "                                                      output4,\n",
        "                                                      output5,\n",
        "                                                      output6,\n",
        "                                                      output7,\n",
        "                                                      output8,\n",
        "                                                      output9,\n",
        "                                                      output10,\n",
        "                                                      output11,\n",
        "                                                      output12,\n",
        "                                                      output13,\n",
        "                                                      output14,\n",
        "                                                      output15,\n",
        "                                                      output16,\n",
        "                                                      output17,\n",
        "                                                      output18,\n",
        "                                                      output19,\n",
        "                                                      output20,\n",
        "                                                      output21\n",
        "                                                      ])\n"
      ],
      "metadata": {
        "id": "hwnFfST3bt9l"
      },
      "execution_count": null,
      "outputs": []
    },
    {
      "cell_type": "code",
      "source": [
        "model.compile(optimizer='adam',\n",
        "              loss={'Arched_Eyebrows': 'binary_crossentropy',\n",
        "              'Bags_Under_Eyes': 'binary_crossentropy',\n",
        "              'Bangs': 'binary_crossentropy',\n",
        "              'Black_Hair': 'binary_crossentropy',\n",
        "              'Blond_Hair': 'binary_crossentropy',\n",
        "              'Brown_Hair': 'binary_crossentropy',\n",
        "              'Eyeglasses': 'binary_crossentropy',\n",
        "              'Gray_Hair': 'binary_crossentropy',\n",
        "              'Heavy_Makeup': 'binary_crossentropy',\n",
        "              'High_Cheekbones': 'binary_crossentropy',\n",
        "              'Mouth_Slightly_Open': 'binary_crossentropy',\n",
        "              'Mustache': 'binary_crossentropy',\n",
        "              'Narrow_Eyes': 'binary_crossentropy',\n",
        "              'Rosy_Cheeks': 'binary_crossentropy',\n",
        "              'Smiling': 'binary_crossentropy',\n",
        "              'Straight_Hair': 'binary_crossentropy',\n",
        "              'Wavy_Hair': 'binary_crossentropy',\n",
        "              'Wearing_Earrings': 'binary_crossentropy',\n",
        "              'Wearing_Hat': 'binary_crossentropy',\n",
        "              'Wearing_Lipstick': 'binary_crossentropy',\n",
        "              'Wearing_Necklace': 'binary_crossentropy',\n",
        "              },\n",
        "\n",
        "\n",
        "              metrics=['accuracy'])"
      ],
      "metadata": {
        "id": "m-wn5OzfZFHZ"
      },
      "execution_count": null,
      "outputs": []
    },
    {
      "cell_type": "code",
      "source": [
        "model.summary()"
      ],
      "metadata": {
        "id": "rnvj7wbvb33_"
      },
      "execution_count": null,
      "outputs": []
    },
    {
      "cell_type": "code",
      "source": [
        "from tensorflow.keras.callbacks import ModelCheckpoint\n",
        "from tensorflow.keras.callbacks import EarlyStopping\n",
        "\n",
        "gc.enable()\n",
        "\n",
        "checkpoint = ModelCheckpoint(\n",
        "    check_save_dir,\n",
        "    save_weights_only=True,\n",
        "    save_best_only=True,\n",
        "    monitor='loss',\n",
        "    mode='min',\n",
        "    verbose=1\n",
        "    )\n",
        "\n",
        "# define early stopping callback\n",
        "early_stopping = EarlyStopping(\n",
        "    monitor='loss', # metric to monitor for early stopping\n",
        "    patience=3, # number of epochs to wait before stopping\n",
        "    restore_best_weights=True, # restore the best model weights found during training\n",
        ")"
      ],
      "metadata": {
        "id": "JAPLgvo2jh6e"
      },
      "execution_count": null,
      "outputs": []
    },
    {
      "cell_type": "code",
      "source": [
        "def generator_wrapper(dataset):\n",
        "    for batch_x, batch_y in dataset:\n",
        "        yield (batch_x, [batch_y[:, i] for i in range(21)])\n",
        "\n",
        "ds_train_wrapped = generator_wrapper(ds_train)\n",
        "ds_valid_wrapped = generator_wrapper(ds_valid)"
      ],
      "metadata": {
        "id": "y4ISbZCwryRO"
      },
      "execution_count": null,
      "outputs": []
    },
    {
      "cell_type": "code",
      "source": [
        "model.load_weights('./Checkpoints/')"
      ],
      "metadata": {
        "id": "bnbTpgq1Pill"
      },
      "execution_count": null,
      "outputs": []
    },
    {
      "cell_type": "markdown",
      "source": [
        "Full Run: 910, 312 <br>\n",
        "1/5 Run: 182, 78 (1/4)"
      ],
      "metadata": {
        "id": "5CtiwMoKSRCJ"
      }
    },
    {
      "cell_type": "code",
      "source": [
        "history = model.fit(\n",
        "                    ds_train_wrapped,\n",
        "                    epochs=2,\n",
        "                    validation_data=ds_valid_wrapped,\n",
        "                    batch_size=25,\n",
        "                    steps_per_epoch=910,\n",
        "                    validation_steps=312,\n",
        "                    verbose=1,\n",
        "                    callbacks=[checkpoint, early_stopping])"
      ],
      "metadata": {
        "id": "PJa6-jricD4w"
      },
      "execution_count": null,
      "outputs": []
    },
    {
      "cell_type": "code",
      "source": [
        "history.history"
      ],
      "metadata": {
        "id": "szL1KVSw6Ysc"
      },
      "execution_count": null,
      "outputs": []
    },
    {
      "cell_type": "code",
      "source": [
        "gc.collect()"
      ],
      "metadata": {
        "id": "5d-RMOoSxidG"
      },
      "execution_count": null,
      "outputs": []
    },
    {
      "cell_type": "code",
      "source": [
        "%cd drive/My Drive/CelebA"
      ],
      "metadata": {
        "id": "3qn_aP5yKlxf"
      },
      "execution_count": null,
      "outputs": []
    },
    {
      "cell_type": "code",
      "source": [
        "%pwd"
      ],
      "metadata": {
        "id": "0KKZqT8w2_d-"
      },
      "execution_count": null,
      "outputs": []
    },
    {
      "cell_type": "code",
      "source": [
        "tf.keras.saving.save_model(\n",
        "    model, './Saved_models/Set_B/model_03', overwrite=False, save_format='tf',\n",
        ")"
      ],
      "metadata": {
        "id": "Er2a0WPHH7tk"
      },
      "execution_count": null,
      "outputs": []
    },
    {
      "cell_type": "code",
      "source": [
        "reconstructed_model = keras.models.load_model(\"./Saved_models/Set_B/model_15\")"
      ],
      "metadata": {
        "id": "yBQ3xuX1cPpO"
      },
      "execution_count": null,
      "outputs": []
    },
    {
      "cell_type": "code",
      "source": [
        "reconstructed_model.summary()"
      ],
      "metadata": {
        "id": "5YeSysLydJgI"
      },
      "execution_count": null,
      "outputs": []
    },
    {
      "cell_type": "code",
      "source": [
        "reconstructed_model.load_weights('./Checkpoints/')"
      ],
      "metadata": {
        "id": "MkEUOEnNHiGN"
      },
      "execution_count": null,
      "outputs": []
    },
    {
      "cell_type": "code",
      "source": [
        "history = reconstructed_model.fit(\n",
        "                    ds_train_wrapped,\n",
        "                    epochs=1,\n",
        "                    validation_data=ds_valid_wrapped,\n",
        "                    batch_size=25,\n",
        "                    steps_per_epoch=910,\n",
        "                    validation_steps=312,\n",
        "                    verbose=1,\n",
        "                    callbacks=[checkpoint, early_stopping])"
      ],
      "metadata": {
        "id": "8FoM-unmcola"
      },
      "execution_count": null,
      "outputs": []
    },
    {
      "cell_type": "code",
      "source": [
        "tf.keras.saving.save_model(\n",
        "    reconstructed_model, './Saved_models/Set_B/model_15', overwrite=False, save_format='tf',\n",
        ")"
      ],
      "metadata": {
        "id": "I5XEPUEJGyGv"
      },
      "execution_count": null,
      "outputs": []
    },
    {
      "cell_type": "code",
      "source": [
        "test_generator.reset()\n",
        "# Get the predicted probabilities for each class\n",
        "predictions = reconstructed_model.predict(test_generator, steps=1)"
      ],
      "metadata": {
        "id": "aB0MHpzcvn5P"
      },
      "execution_count": null,
      "outputs": []
    },
    {
      "cell_type": "code",
      "source": [
        "from PIL import Image\n",
        "from textwrap import wrap\n",
        "imagePreds = []\n",
        "\n",
        "#print(predictions[20][14][0])\n",
        "for i in range(21):\n",
        "  classPreds = []\n",
        "  for j in range(15):\n",
        "    classPreds.append(predictions[i][j][0])\n",
        "  imagePreds.append(classPreds)\n",
        "\n",
        "class_names = [\"Arched_Eyebrows\", \"Bags_Under_Eyes\", \"Bangs\", \"Black_Hair\", \"Blond_Hair\", \"Brown_Hair\", \"Eyeglasses\", \"Gray_Hair\", \"Heavy_Makeup\", \"High_Cheekbones\", \"Mouth_Slightly_Open\", \"Mustache\", \"Narrow_Eyes\", \"Rosy_Cheeks\", \"Smiling\", \"Straight_Hair\", \"Wavy_Hair\", \"Wearing_Earrings\", \"Wearing_Hat\", \"Wearing_Lipstick\", \"Wearing_Necklace\"]\n",
        "filenames = test['filenames'][:15]\n",
        "#print(imagePreds)\n",
        "\n",
        "for i in range(15):\n",
        "  image = []\n",
        "  for j in range(21):\n",
        "    image.append(imagePreds[j][i])\n",
        "  #print(image)\n",
        "  sorted_indices = np.argsort(image)\n",
        "  #print(sorted_indices)\n",
        "  top_three_indices = sorted_indices[::-1][:3]\n",
        "  #print(top_three_indices[0])\n",
        "  top_three_arr = [image[x] for x in top_three_indices]\n",
        "  #print(top_three_arr)\n",
        "  xLabel = f\"{class_names[sorted_indices[20]]}, {'%.2f' % (top_three_arr[0]*100)}%; {class_names[sorted_indices[19]]}, {'%.2f' % (top_three_arr[1]*100)}%; {class_names[sorted_indices[18]]}, {'%.2f' % (top_three_arr[2]*100)}%\"\n",
        "  #xLabel = ['\\n'.join(wrap(l, 20)) for l in xLabel]\n",
        "  # Plot the results\n",
        "  plt.figure(figsize=(6, 12))\n",
        "  #plt.subplot(16, 14, i+1)\n",
        "  plt.xticks([])\n",
        "  plt.yticks([])\n",
        "  plt.grid(False)\n",
        "  plt.imshow(Image.open(os.path.join(img_dir, filenames.iloc[i])))\n",
        "  plt.xlabel(xLabel)\n",
        "  plt.tight_layout()\n",
        "  plt.show()\n"
      ],
      "metadata": {
        "id": "p6zmv1UyII1g"
      },
      "execution_count": null,
      "outputs": []
    },
    {
      "cell_type": "code",
      "source": [
        "# set Matplotlib defaults\n",
        "plt.rc('figure', autolayout=True)\n",
        "plt.rc('axes', labelweight='bold', labelsize='large',\n",
        "       titleweight='bold', titlesize=16, titlepad=10)\n",
        "plt.rc('image', cmap='magma')\n",
        "warnings.filterwarnings(\"ignore\")\n",
        "\n",
        "# convert history.history object to dataframe\n",
        "history_frame = pd.DataFrame(history.history)\n"
      ],
      "metadata": {
        "id": "5fV7q5QG4FhO"
      },
      "execution_count": null,
      "outputs": []
    },
    {
      "cell_type": "code",
      "source": [
        "print(history_frame)\n",
        "history_frame.to_csv('/content/drive/My Drive/CelebA/Saved_models/Set_B/metrics/modelB_15.csv', index=False)"
      ],
      "metadata": {
        "id": "rpGpMZ3HfDza"
      },
      "execution_count": null,
      "outputs": []
    },
    {
      "cell_type": "code",
      "source": [
        "\n",
        "history_frame.loc[:, [\n",
        "                  'val_Arched_Eyebrows_accuracy',\n",
        "                  'val_Bags_Under_Eyes_accuracy',\n",
        "                  'val_Bangs_accuracy',\n",
        "                  'val_Black_Hair_accuracy',\n",
        "                  'val_Blond_Hair_accuracy',\n",
        "                     ]].plot()\n",
        "plt.xlabel('Epochs')\n",
        "plt.ylabel('Validation Accuracy')\n",
        "history_frame.loc[:, [\n",
        "                  'val_Brown_Hair_accuracy',\n",
        "                  'val_Eyeglasses_accuracy',\n",
        "                  'val_Gray_Hair_accuracy',\n",
        "                  'val_Heavy_Makeup_accuracy',\n",
        "                  'val_High_Cheekbones_accuracy',\n",
        "                     ]].plot()\n",
        "plt.xlabel('Epochs')\n",
        "plt.ylabel('Validation Accuracy')\n",
        "history_frame.loc[:, [\n",
        "                  'val_Mouth_Slightly_Open_accuracy',\n",
        "                  'val_Mustache_accuracy',\n",
        "                  'val_Narrow_Eyes_accuracy',\n",
        "                  'val_Rosy_Cheeks_accuracy',\n",
        "                  'val_Smiling_accuracy',\n",
        "                     ]].plot()\n",
        "plt.xlabel('Epochs')\n",
        "plt.ylabel('Validation Accuracy')\n",
        "history_frame.loc[:, [\n",
        "                  'val_Straight_Hair_accuracy',\n",
        "                  'val_Wavy_Hair_accuracy',\n",
        "                  'val_Wearing_Earrings_accuracy',\n",
        "                  'val_Wearing_Hat_accuracy',\n",
        "                  'val_Wearing_Lipstick_accuracy',\n",
        "                  'val_Wearing_Necklace_accuracy',\n",
        "                  ]].plot()\n",
        "plt.xlabel('Epochs')\n",
        "plt.ylabel('Validation Accuracy')\n",
        "plt.legend(loc='lower right')\n",
        "plt.show()"
      ],
      "metadata": {
        "id": "ZufnzIZvcSjS"
      },
      "execution_count": null,
      "outputs": []
    },
    {
      "cell_type": "code",
      "source": [
        "\n",
        "history_frame.loc[:, [\n",
        "                  'val_Arched_Eyebrows_loss',\n",
        "                  'val_Bags_Under_Eyes_loss',\n",
        "                  'val_Bangs_loss',\n",
        "                  'val_Black_Hair_loss',\n",
        "                  'val_Blond_Hair_loss',\n",
        "]].plot()\n",
        "plt.xlabel('Epochs')\n",
        "plt.ylabel('Validation Loss')\n",
        "plt.legend(loc='upper left')\n",
        "history_frame.loc[:, [\n",
        "                  'val_Brown_Hair_loss',\n",
        "                  'val_Eyeglasses_loss',\n",
        "                  'val_Gray_Hair_loss',\n",
        "                  'val_Heavy_Makeup_loss',\n",
        "                  'val_High_Cheekbones_loss',\n",
        "]].plot()\n",
        "plt.xlabel('Epochs')\n",
        "plt.ylabel('Validation Loss')\n",
        "history_frame.loc[:, [\n",
        "                  'val_Mouth_Slightly_Open_loss',\n",
        "                  'val_Mustache_loss',\n",
        "                  'val_Narrow_Eyes_loss',\n",
        "                  'val_Rosy_Cheeks_loss',\n",
        "                  'val_Smiling_loss',\n",
        "]].plot()\n",
        "plt.xlabel('Epochs')\n",
        "plt.ylabel('Validation Loss')\n",
        "\n",
        "history_frame.loc[:, [\n",
        "                  'val_Straight_Hair_loss',\n",
        "                  'val_Wavy_Hair_loss',\n",
        "                  'val_Wearing_Earrings_loss',\n",
        "                  'val_Wearing_Hat_loss',\n",
        "                  'val_Wearing_Lipstick_loss',\n",
        "                  'val_Wearing_Necklace_loss',\n",
        "]].plot()"
      ],
      "metadata": {
        "id": "iVld1KN43ALB"
      },
      "execution_count": null,
      "outputs": []
    },
    {
      "cell_type": "code",
      "source": [
        "val_accuracies = []\n",
        "for col_name in history_frame.columns:\n",
        "    if col_name.startswith('val_') and col_name.endswith('accuracy'):\n",
        "        val_accuracies.append(history_frame[col_name])\n"
      ],
      "metadata": {
        "id": "T8oRUY9BvrMd"
      },
      "execution_count": null,
      "outputs": []
    },
    {
      "cell_type": "code",
      "source": [
        "val_losses = []\n",
        "for col_name in history_frame.columns:\n",
        "    if col_name.startswith('val_') and col_name.endswith('loss'):\n",
        "        val_losses.append(history_frame[col_name])"
      ],
      "metadata": {
        "id": "iDUkgN563yrU"
      },
      "execution_count": null,
      "outputs": []
    },
    {
      "cell_type": "code",
      "source": [
        "import numpy as np\n",
        "avg_val_losses = np.mean(val_losses, axis=0)\n",
        "avg_val_accuracies = np.mean(val_accuracies, axis=0)"
      ],
      "metadata": {
        "id": "nmLwNVdhumX1"
      },
      "execution_count": null,
      "outputs": []
    },
    {
      "cell_type": "code",
      "source": [
        "import matplotlib.pyplot as plt\n",
        "plt.plot(avg_val_losses)\n",
        "plt.title('Average Validation Loss. vs. Epochs (Set 6)')\n",
        "plt.xlabel('Epochs')\n",
        "plt.ylabel('Average Validation Loss')\n",
        "plt.show()\n",
        "\n",
        "plt.plot(avg_val_accuracies)\n",
        "plt.title('Average Validation Acc. vs. Epochs (Set 6)')\n",
        "plt.xlabel('Epochs')\n",
        "plt.ylabel('Average Validation Accuracy')\n",
        "plt.show()\n"
      ],
      "metadata": {
        "id": "qSNoYkxbupD8"
      },
      "execution_count": null,
      "outputs": []
    },
    {
      "cell_type": "code",
      "source": [],
      "metadata": {
        "id": "piwzRwmI-WKP"
      },
      "execution_count": null,
      "outputs": []
    }
  ]
}