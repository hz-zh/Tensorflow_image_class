{
  "nbformat": 4,
  "nbformat_minor": 0,
  "metadata": {
    "colab": {
      "private_outputs": true,
      "provenance": [],
      "machine_shape": "hm",
      "gpuType": "T4"
    },
    "kernelspec": {
      "name": "python3",
      "display_name": "Python 3"
    },
    "language_info": {
      "name": "python"
    },
    "accelerator": "GPU"
  },
  "cells": [
    {
      "cell_type": "code",
      "source": [
        "from google.colab import drive\n",
        "drive.mount('/content/drive')"
      ],
      "metadata": {
        "id": "555gxJm1aZd8"
      },
      "execution_count": null,
      "outputs": []
    },
    {
      "cell_type": "code",
      "source": [
        "from tensorflow import keras\n",
        "%pip install git+https://github.com/keras-team/keras-preprocessing.git\n",
        "from keras_preprocessing.image import ImageDataGenerator\n",
        "from tensorflow.keras import layers, models\n",
        "from tensorflow.keras.layers.experimental import preprocessing\n",
        "from tensorflow.keras.layers import Dropout\n",
        "from sklearn.model_selection import train_test_split\n",
        "import os, warnings\n",
        "import matplotlib.pyplot as plt\n",
        "from matplotlib import gridspec\n",
        "import cv2\n",
        "import numpy as np\n",
        "import tensorflow as tf\n",
        "from tensorflow.keras.preprocessing import image_dataset_from_directory\n",
        "import gc"
      ],
      "metadata": {
        "id": "SvN-ccTMsZA5"
      },
      "execution_count": null,
      "outputs": []
    },
    {
      "cell_type": "code",
      "source": [
        "import pandas as pd\n",
        "\n",
        "img_dir = '/content/drive/My Drive/CelebA/Img/img_align_celeba_32500'\n",
        "# Load labels.csv\n",
        "labels_df = pd.read_csv('/content/drive/My Drive/CelebA/Anno/labels_even_clean.csv', header=0, names=['Filename', 'High_Cheekbones', 'Mouth_Slightly_Open', 'Smiling'])\n"
      ],
      "metadata": {
        "id": "iCiSGW65aY-s"
      },
      "execution_count": null,
      "outputs": []
    },
    {
      "cell_type": "code",
      "source": [
        "train, valid = train_test_split(labels_df, test_size = 0.3)\n",
        "valid, test = train_test_split(valid, test_size=0.2)\n",
        "train_features = train[[\"High_Cheekbones\", \"Mouth_Slightly_Open\",\"Smiling\"]]\n",
        "# print length of train, valid and test\n",
        "print(\"train: \", len(train))\n",
        "print(\"valid: \", len(valid))\n",
        "print(\"test: \", len(test))\n",
        "#train,valid,test"
      ],
      "metadata": {
        "id": "Jmt7Tunzsi0-"
      },
      "execution_count": null,
      "outputs": []
    },
    {
      "cell_type": "code",
      "source": [
        "# remove a random row from train\n",
        "train = train.drop(train.sample().index)"
      ],
      "metadata": {
        "id": "l2j_dwizRsQj"
      },
      "execution_count": null,
      "outputs": []
    },
    {
      "cell_type": "code",
      "source": [
        "'''\n",
        "import pandas as pd\n",
        "import re\n",
        "\n",
        "df = labels_df\n",
        "\n",
        "# Function to check if a filename is valid\n",
        "def is_valid_filename(filename):\n",
        "    pattern = r'^\\d{6}\\.jpg$'  # Regular expression for \"000001.jpg\" format\n",
        "    return re.match(pattern, filename) is not None\n",
        "\n",
        "# Check for invalid filenames\n",
        "invalid_filenames = df[~df['Filename'].apply(is_valid_filename)]\n",
        "\n",
        "# Print rows with invalid filenames\n",
        "for index, row in invalid_filenames.iterrows():\n",
        "    print(f\"Invalid filename '{row['Filename']}' in row {index + 1}\")\n",
        "\n",
        "# If you want to remove rows with invalid filenames from the DataFrame, you can use the following line\n",
        "# df = df[df['Filename'].apply(is_valid_filename)]\n",
        "'''"
      ],
      "metadata": {
        "id": "aqc_iSboKBSF"
      },
      "execution_count": null,
      "outputs": []
    },
    {
      "cell_type": "code",
      "execution_count": null,
      "metadata": {
        "id": "kZed-TvEDu9n"
      },
      "outputs": [],
      "source": [
        "# Define list of class names (subset of the classes listed in `list_attr_celeba.txt`)\n",
        "class_names = [\"High_Cheekbones\", \"Mouth_Slightly_Open\", \"Smiling\"]\n",
        "\n",
        "# Reproducability\n",
        "def set_seed(seed=31415):\n",
        "    np.random.seed(seed)\n",
        "    tf.random.set_seed(seed)\n",
        "    os.environ['PYTHONHASHSEED'] = str(seed)\n",
        "set_seed()\n",
        "\n",
        "def custom_augmentation(np_tensor):\n",
        "\n",
        "  def random_contrast(np_tensor):\n",
        "    return tf.image.random_contrast(np_tensor, 0.5, 2)\n",
        "\n",
        "  augmnted_tensor = random_contrast(np_tensor)\n",
        "  return np.array(augmnted_tensor)\n",
        "\n",
        "# Load training and validation sets\n",
        "datagen=ImageDataGenerator(rescale=1./255.,\n",
        "                          rotation_range=45,\n",
        "                          horizontal_flip=True,\n",
        "                          vertical_flip=True,\n",
        "                          preprocessing_function=custom_augmentation)\n",
        "valid_datagen=ImageDataGenerator(rescale=1./255.,\n",
        "                                rotation_range=45,\n",
        "                                horizontal_flip=True,\n",
        "                                vertical_flip=True,\n",
        "                                preprocessing_function=custom_augmentation)\n",
        "test_datagen=ImageDataGenerator(rescale=1./255.)\n",
        "\n",
        "train_generator = datagen.flow_from_dataframe(\n",
        "    dataframe=train,\n",
        "    directory=img_dir,\n",
        "    x_col='Filename',\n",
        "    y_col=class_names,\n",
        "    save_format='jpg',\n",
        "    batch_size=30,\n",
        "    seed=27,\n",
        "    shuffle=True,\n",
        "    class_mode=\"raw\",\n",
        "    target_size=(218, 178)\n",
        ")\n",
        "\n",
        "valid_generator = valid_datagen.flow_from_dataframe(\n",
        "    dataframe=valid,\n",
        "    directory=img_dir,\n",
        "    x_col='Filename',\n",
        "    y_col=class_names,\n",
        "    save_format='jpg',\n",
        "    batch_size=30,\n",
        "    seed=9,\n",
        "    shuffle=True,\n",
        "    class_mode=\"raw\",\n",
        "    target_size=(218, 178)\n",
        ")\n",
        "\n",
        "test_generator = test_datagen.flow_from_dataframe(\n",
        "    dataframe=test,\n",
        "    directory=img_dir,\n",
        "    x_col='Filename',\n",
        "    #y_col=class_names,\n",
        "    batch_size=15,\n",
        "    seed=3,\n",
        "    shuffle=False,\n",
        "    class_mode=None,\n",
        "    target_size=(218, 178)\n",
        ")\n",
        "\n",
        "# Data Pipeline\n",
        "def convert_to_float(image, label):\n",
        "    image = tf.image.convert_image_dtype(image, dtype=tf.float32)\n",
        "    return image, label\n",
        "\n",
        "AUTOTUNE = tf.data.experimental.AUTOTUNE\n",
        "ds_train = tf.data.Dataset.from_generator(\n",
        "    lambda: train_generator,\n",
        "    output_types=(tf.float32, tf.float32),\n",
        "    output_shapes=([30, 218, 178, 3], [None, len(class_names)])\n",
        ").map(convert_to_float).cache().prefetch(buffer_size=AUTOTUNE)\n",
        "\n",
        "ds_valid = tf.data.Dataset.from_generator(\n",
        "    lambda: valid_generator,\n",
        "    output_types=(tf.float32, tf.float32),\n",
        "    output_shapes=([30, 218, 178, 3], [None, len(class_names)])\n",
        ").map(convert_to_float).cache().prefetch(buffer_size=AUTOTUNE)\n"
      ]
    },
    {
      "cell_type": "code",
      "source": [
        "import tensorflow.keras.backend as K\n",
        "K.clear_session()"
      ],
      "metadata": {
        "id": "kJrQ6GS3eZi_"
      },
      "execution_count": null,
      "outputs": []
    },
    {
      "cell_type": "code",
      "source": [
        "from tensorflow.keras.models import Model\n",
        "from tensorflow.keras.layers import Input, GlobalAveragePooling2D, Dense\n",
        "from tensorflow.keras.constraints import MaxNorm\n",
        "from tensorflow.keras.layers import Conv2D, MaxPooling2D, Dropout, Flatten, Dense, BatchNormalization\n",
        "\n",
        "input_tensor = Input(shape=(218, 178, 3), name='input_01')\n",
        "x = Conv2D(64, (2, 2), activation=tf.nn.leaky_relu)(input_tensor)\n",
        "x = BatchNormalization()(x)\n",
        "x = MaxPooling2D((2, 2))(x)\n",
        "x = Dropout(0.2)(x)\n",
        "\n",
        "x = Conv2D(128, (2, 2), activation=tf.nn.leaky_relu)(x)\n",
        "x = BatchNormalization()(x)\n",
        "x = MaxPooling2D((2, 2))(x)\n",
        "x = Dropout(0.2)(x)\n",
        "\n",
        "x = Conv2D(256, (3, 3), activation=tf.nn.leaky_relu)(x)\n",
        "x = BatchNormalization()(x)\n",
        "x = MaxPooling2D((2, 2))(x)\n",
        "x = Dropout(0.2)(x)\n",
        "\n",
        "x = Conv2D(512, (3, 3), activation=tf.nn.leaky_relu)(x)\n",
        "x = BatchNormalization()(x)\n",
        "x = MaxPooling2D((2, 2))(x)\n",
        "x = Dropout(0.2)(x)\n",
        "\n",
        "x = Conv2D(1024, (5, 5), activation=tf.nn.leaky_relu)(x)\n",
        "x = BatchNormalization()(x)\n",
        "x = MaxPooling2D((2, 2))(x)\n",
        "x = Dropout(0.25)(x)\n",
        "\n",
        "x = Flatten()(x)\n",
        "\n",
        "output1 = Dense(1, activation='sigmoid', kernel_constraint=MaxNorm(3), name='High_Cheekbones')(x)\n",
        "output2 = Dense(1, activation='sigmoid', kernel_constraint=MaxNorm(3), name='Mouth_Slightly_Open')(x)\n",
        "output3 = Dense(1, activation='sigmoid', kernel_constraint=MaxNorm(3), name='Smiling')(x)\n",
        "\n",
        "model = Model(inputs=input_tensor, outputs=[output1, output2, output3], name='Custom_Image_Arch')\n",
        "\n",
        "#100 times faster than VGG16\n",
        "base_learning_rate = 0.01\n",
        "\n",
        "# Compile the model\n",
        "model.compile(\n",
        "    optimizer=tf.keras.optimizers.Adam(learning_rate=base_learning_rate),\n",
        "    loss={'High_Cheekbones': 'binary_crossentropy', 'Mouth_Slightly_Open': 'binary_crossentropy', 'Smiling': 'binary_crossentropy'},\n",
        "    metrics=['accuracy']\n",
        ")\n",
        "\n",
        "# Print model summary\n",
        "model.summary()"
      ],
      "metadata": {
        "id": "q9jPf9OsuzrX"
      },
      "execution_count": null,
      "outputs": []
    },
    {
      "cell_type": "code",
      "source": [
        "model.summary()"
      ],
      "metadata": {
        "id": "3X0ZOi4QXAP9"
      },
      "execution_count": null,
      "outputs": []
    },
    {
      "cell_type": "code",
      "source": [
        "tf.keras.utils.plot_model(model, show_shapes=True)"
      ],
      "metadata": {
        "id": "CR3Yj_3vW258"
      },
      "execution_count": null,
      "outputs": []
    },
    {
      "cell_type": "code",
      "source": [
        "# save model summary to file\n",
        "with open('/content/drive/My Drive/CelebA/Saved_models/Custom_Convo_Model_3_Classes/metrics/14639683_summary.txt','w') as fh:\n",
        "    # Pass the file handle in as a lambda function to make it callable\n",
        "    model.summary(print_fn=lambda x: fh.write(x + '\\n'))"
      ],
      "metadata": {
        "id": "485QeJ21xYEb"
      },
      "execution_count": null,
      "outputs": []
    },
    {
      "cell_type": "code",
      "source": [
        "tf.keras.utils.plot_model(model, show_shapes=True)"
      ],
      "metadata": {
        "id": "UqTlVBE5vDTm"
      },
      "execution_count": null,
      "outputs": []
    },
    {
      "cell_type": "code",
      "source": [
        "from tensorflow.keras.callbacks import ModelCheckpoint\n",
        "from tensorflow.keras.callbacks import EarlyStopping\n",
        "\n",
        "check_save_dir = '/content/drive/My Drive/CelebA/Custom_Convo_Model_3_Classes_Checkpoints/Checkpoints_Uncropped/'\n",
        "gc.enable()\n",
        "\n",
        "checkpoint = ModelCheckpoint(\n",
        "    check_save_dir,\n",
        "    save_weights_only=False,\n",
        "    save_best_only=True,\n",
        "    monitor='loss',\n",
        "    mode='min',\n",
        "    verbose=1\n",
        "    )\n",
        "\n",
        "# define early stopping callback\n",
        "early_stopping = EarlyStopping(\n",
        "    monitor='loss', # metric to monitor for early stopping\n",
        "    patience=3, # number of epochs to wait before stopping\n",
        "    restore_best_weights=True, # restore the best model weights found during training\n",
        ")"
      ],
      "metadata": {
        "id": "JAPLgvo2jh6e"
      },
      "execution_count": null,
      "outputs": []
    },
    {
      "cell_type": "code",
      "source": [
        "def generator_wrapper(dataset):\n",
        "    for batch_x, batch_y in dataset:\n",
        "        yield (batch_x, [batch_y[:, i] for i in range(3)])\n",
        "\n",
        "ds_train_wrapped = generator_wrapper(ds_train)\n",
        "ds_valid_wrapped = generator_wrapper(ds_valid)"
      ],
      "metadata": {
        "id": "y4ISbZCwryRO"
      },
      "execution_count": null,
      "outputs": []
    },
    {
      "cell_type": "code",
      "source": [
        "%cd drive/My Drive/CelebA"
      ],
      "metadata": {
        "id": "3qn_aP5yKlxf"
      },
      "execution_count": null,
      "outputs": []
    },
    {
      "cell_type": "code",
      "source": [
        "model.load_weights('./Checkpoints_3_Classes/')"
      ],
      "metadata": {
        "id": "bnbTpgq1Pill"
      },
      "execution_count": null,
      "outputs": []
    },
    {
      "cell_type": "markdown",
      "source": [
        "Train Data: 6,300 rows   \n",
        "Train Batch Size: 30 images  \n",
        "Train Step Size = $6300/30 = 210$  \n",
        "\n",
        "-------\n",
        "Valid Data: 2160 rows  \n",
        "Valid Batch Size: 30 images  \n",
        "Valid Step Size: $2160 / 30 = 72$  "
      ],
      "metadata": {
        "id": "5CtiwMoKSRCJ"
      }
    },
    {
      "cell_type": "code",
      "source": [
        "history = model.fit(\n",
        "                    ds_train_wrapped,\n",
        "                    epochs=8,\n",
        "                    validation_data=ds_valid_wrapped,\n",
        "                    batch_size=30,\n",
        "                    steps_per_epoch=210,\n",
        "                    validation_steps=72,\n",
        "                    verbose=1,\n",
        "                    callbacks=[checkpoint, early_stopping])\n",
        "\n",
        "tf.keras.saving.save_model(\n",
        "    model, './Saved_models/Custom_Convo_Model_3_Classes/8E_uncropped', overwrite=False, save_format='tf',\n",
        ")\n",
        "history_frame = pd.DataFrame(history.history)\n",
        "history_frame.to_csv('/content/drive/My Drive/CelebA/Saved_models/Custom_Convo_Model_3_Classes/metrics/8E_uncropped.csv', index=False)"
      ],
      "metadata": {
        "id": "PJa6-jricD4w"
      },
      "execution_count": null,
      "outputs": []
    },
    {
      "cell_type": "code",
      "source": [
        "gc.collect()"
      ],
      "metadata": {
        "id": "5d-RMOoSxidG"
      },
      "execution_count": null,
      "outputs": []
    },
    {
      "cell_type": "code",
      "source": [
        "tf.keras.saving.save_model(\n",
        "    model, './Saved_models/Custom_Convo_Model_3_Classes/8_epochs_uncropped', overwrite=False, save_format='tf',\n",
        ")"
      ],
      "metadata": {
        "id": "Er2a0WPHH7tk"
      },
      "execution_count": null,
      "outputs": []
    },
    {
      "cell_type": "code",
      "source": [
        "reconstructed_model = keras.models.load_model(\"./Saved_models/Custom_Convo_Model_3_Classes/8E_uncropped\")"
      ],
      "metadata": {
        "id": "yBQ3xuX1cPpO"
      },
      "execution_count": null,
      "outputs": []
    },
    {
      "cell_type": "code",
      "source": [
        "reconstructed_model.summary()"
      ],
      "metadata": {
        "id": "5YeSysLydJgI"
      },
      "execution_count": null,
      "outputs": []
    },
    {
      "cell_type": "code",
      "source": [
        "reconstructed_model.load_weights('./Checkpoints/')"
      ],
      "metadata": {
        "id": "MkEUOEnNHiGN"
      },
      "execution_count": null,
      "outputs": []
    },
    {
      "cell_type": "code",
      "source": [
        "history = reconstructed_model.fit(\n",
        "                    ds_train_wrapped,\n",
        "                    epochs=4,\n",
        "                    validation_data=ds_valid_wrapped,\n",
        "                    batch_size=30,\n",
        "                    steps_per_epoch=210,\n",
        "                    validation_steps=72,\n",
        "                    verbose=1,\n",
        "                    callbacks=[checkpoint, early_stopping])\n",
        "\n",
        "tf.keras.saving.save_model(\n",
        "    reconstructed_model, './Saved_models/Custom_Convo_Model_3_Classes/8+4+4E_uncropped', overwrite=False, save_format='tf',\n",
        ")\n",
        "history_frame = pd.DataFrame(history.history)\n",
        "history_frame.to_csv('/content/drive/My Drive/CelebA/Saved_models/Custom_Convo_Model_3_Classes/metrics/8+4+4E_uncropped.csv', index=False)"
      ],
      "metadata": {
        "id": "8FoM-unmcola"
      },
      "execution_count": null,
      "outputs": []
    },
    {
      "cell_type": "code",
      "source": [
        "tf.keras.saving.save_model(\n",
        "    reconstructed_model, './Saved_models/Custom_Convo_Model_3_Classes/8+4_epochs_uncropped', overwrite=False, save_format='tf',\n",
        ")"
      ],
      "metadata": {
        "id": "I5XEPUEJGyGv"
      },
      "execution_count": null,
      "outputs": []
    },
    {
      "cell_type": "code",
      "source": [
        "# set Matplotlib defaults\n",
        "plt.rc('figure', autolayout=True)\n",
        "plt.rc('axes', labelweight='bold', labelsize='large',\n",
        "       titleweight='bold', titlesize=16, titlepad=10)\n",
        "plt.rc('image', cmap='magma')\n",
        "warnings.filterwarnings(\"ignore\")\n",
        "\n"
      ],
      "metadata": {
        "id": "FkBBF6S2XiPl"
      },
      "execution_count": null,
      "outputs": []
    },
    {
      "cell_type": "code",
      "source": [
        "test_generator.reset()"
      ],
      "metadata": {
        "id": "9SRpVlCXXpCG"
      },
      "execution_count": null,
      "outputs": []
    },
    {
      "cell_type": "code",
      "source": [
        "evaluation_results = model.evaluate(test_generator, verbose=1)"
      ],
      "metadata": {
        "id": "O2nzcC3QM8gQ"
      },
      "execution_count": null,
      "outputs": []
    },
    {
      "cell_type": "code",
      "source": [
        "\n",
        "print(evaluation_results[0:])"
      ],
      "metadata": {
        "id": "iRrfrIOtODZs"
      },
      "execution_count": null,
      "outputs": []
    },
    {
      "cell_type": "code",
      "source": [
        "batch = test_generator.next()  # Get the next batch of 15 images\n",
        "predictions = reconstructed_model.predict(batch)"
      ],
      "metadata": {
        "id": "emwZS0SbXmE1"
      },
      "execution_count": null,
      "outputs": []
    },
    {
      "cell_type": "code",
      "source": [
        "from PIL import Image\n",
        "import os\n",
        "import matplotlib.pyplot as plt\n",
        "import numpy as np\n",
        "import textwrap\n",
        "\n",
        "class_names = [\"High_Cheekbones\", \"Mouth_Slightly_Open\", \"Smiling\"]\n",
        "\n",
        "filenames = test['Filename'][:15]\n",
        "\n",
        "\n",
        "plt.figure(figsize=(18, 16))\n",
        "\n",
        "for i in range(15):\n",
        "    image_preds = [predictions[j][i] for j in range(3)]\n",
        "    class_percentages = ['%.2f' % (pred * 100) + '%' for pred in image_preds]\n",
        "    xLabel = f\"{class_names[0]}, {class_percentages[0]}; {class_names[1]}, {class_percentages[1]}; {class_names[2]}, {class_percentages[2]}\"\n",
        "\n",
        "    wrapped_label = '\\n'.join(textwrap.wrap(xLabel, width=30))\n",
        "    plt.subplot(5, 3, i + 1)  # Changed to 5 rows and 3 columns for 15 images\n",
        "    plt.xticks([])\n",
        "    plt.yticks([])\n",
        "    plt.grid(False)\n",
        "    plt.imshow(Image.open(os.path.join(img_dir, filenames.iloc[i])))\n",
        "    plt.xlabel(wrapped_label, fontsize=8)\n",
        "\n",
        "plt.tight_layout()\n",
        "plt.show()\n"
      ],
      "metadata": {
        "id": "p6zmv1UyII1g"
      },
      "execution_count": null,
      "outputs": []
    },
    {
      "cell_type": "code",
      "source": [
        "print(history_frame)\n",
        "history_frame.to_csv('/content/drive/My Drive/CelebA/Saved_models/VGG16_Transfer_3_Classes/metrics/8_epochs_uncropped.csv', index=False)"
      ],
      "metadata": {
        "id": "rpGpMZ3HfDza"
      },
      "execution_count": null,
      "outputs": []
    },
    {
      "cell_type": "code",
      "source": [
        "\n",
        "history_frame.loc[:, [\n",
        "                  'val_High_Cheekbones_accuracy',\n",
        "                  'val_Smiling_accuracy',\n",
        "                  'val_Mouth_Slightly_Open_accuracy',\n",
        "                     ]].plot()\n",
        "plt.xlabel('Epochs')\n",
        "plt.ylabel('Validation Accuracy')\n",
        "plt.legend(loc='center left')\n",
        "plt.show()"
      ],
      "metadata": {
        "id": "ZufnzIZvcSjS"
      },
      "execution_count": null,
      "outputs": []
    },
    {
      "cell_type": "code",
      "source": [
        "val_accuracies = []\n",
        "for col_name in history_frame.columns:\n",
        "    if col_name.startswith('val_') and col_name.endswith('accuracy'):\n",
        "        val_accuracies.append(history_frame[col_name])\n"
      ],
      "metadata": {
        "id": "T8oRUY9BvrMd"
      },
      "execution_count": null,
      "outputs": []
    },
    {
      "cell_type": "code",
      "source": [
        "val_losses = []\n",
        "for col_name in history_frame.columns:\n",
        "    if col_name.startswith('val_') and col_name.endswith('loss'):\n",
        "        val_losses.append(history_frame[col_name])"
      ],
      "metadata": {
        "id": "iDUkgN563yrU"
      },
      "execution_count": null,
      "outputs": []
    },
    {
      "cell_type": "code",
      "source": [
        "import numpy as np\n",
        "avg_val_losses = np.mean(val_losses, axis=0)\n",
        "avg_val_accuracies = np.mean(val_accuracies, axis=0)"
      ],
      "metadata": {
        "id": "nmLwNVdhumX1"
      },
      "execution_count": null,
      "outputs": []
    },
    {
      "cell_type": "code",
      "source": [
        "import matplotlib.pyplot as plt\n",
        "plt.plot(avg_val_losses)\n",
        "plt.title('Average Validation Loss. vs. Epochs (epochs 1-8)')\n",
        "plt.xlabel('Epochs')\n",
        "plt.ylabel('Average Validation Loss')\n",
        "plt.show()\n",
        "\n",
        "plt.plot(avg_val_accuracies)\n",
        "plt.title('Average Validation Acc. vs. Epochs (epochs 1-8)')\n",
        "plt.xlabel('Epochs')\n",
        "plt.ylabel('Average Validation Accuracy')\n",
        "plt.show()\n"
      ],
      "metadata": {
        "id": "qSNoYkxbupD8"
      },
      "execution_count": null,
      "outputs": []
    },
    {
      "cell_type": "code",
      "source": [],
      "metadata": {
        "id": "piwzRwmI-WKP"
      },
      "execution_count": null,
      "outputs": []
    }
  ]
}