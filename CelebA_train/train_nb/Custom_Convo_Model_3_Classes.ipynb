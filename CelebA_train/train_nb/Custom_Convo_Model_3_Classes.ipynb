{
  "cells": [
    {
      "cell_type": "code",
      "execution_count": null,
      "metadata": {
        "id": "555gxJm1aZd8"
      },
      "outputs": [],
      "source": [
        "from google.colab import drive\n",
        "drive.mount('/content/drive')"
      ]
    },
    {
      "cell_type": "code",
      "execution_count": null,
      "metadata": {
        "id": "SvN-ccTMsZA5"
      },
      "outputs": [],
      "source": [
        "from tensorflow import keras\n",
        "%pip install git+https://github.com/keras-team/keras-preprocessing.git\n",
        "from keras_preprocessing.image import ImageDataGenerator\n",
        "from tensorflow.keras import layers, models\n",
        "from tensorflow.keras.layers.experimental import preprocessing\n",
        "from tensorflow.keras.layers import Dropout\n",
        "from sklearn.model_selection import train_test_split\n",
        "import os, warnings\n",
        "import matplotlib.pyplot as plt\n",
        "from matplotlib import gridspec\n",
        "import cv2\n",
        "import numpy as np\n",
        "import tensorflow as tf\n",
        "from tensorflow.keras.preprocessing import image_dataset_from_directory\n",
        "import gc"
      ]
    },
    {
      "cell_type": "code",
      "execution_count": null,
      "metadata": {
        "id": "iCiSGW65aY-s"
      },
      "outputs": [],
      "source": [
        "import pandas as pd\n",
        "\n",
        "img_dir = '/content/drive/My Drive/CelebA/Img/img_align_celeba_32500'\n",
        "# Load labels.csv\n",
        "labels_df = pd.read_csv('/content/drive/My Drive/CelebA/Anno/labels_even_clean.csv', header=0, names=['Filename', 'High_Cheekbones', 'Mouth_Slightly_Open', 'Smiling'])\n"
      ]
    },
    {
      "cell_type": "code",
      "execution_count": null,
      "metadata": {
        "id": "Jmt7Tunzsi0-"
      },
      "outputs": [],
      "source": [
        "train, valid = train_test_split(labels_df, test_size = 0.2)\n",
        "valid, test = train_test_split(valid, test_size=0.1)\n",
        "train_features = train[[\"High_Cheekbones\", \"Mouth_Slightly_Open\",\"Smiling\"]]\n",
        "# print length of train, valid and test\n",
        "print(\"train: \", len(train))\n",
        "print(\"valid: \", len(valid))\n",
        "print(\"test: \", len(test))\n",
        "#train,valid,test"
      ]
    },
    {
      "cell_type": "code",
      "execution_count": null,
      "metadata": {
        "id": "l2j_dwizRsQj"
      },
      "outputs": [],
      "source": [
        "# remove a random row from train\n",
        "train = train.drop(train.sample().index)"
      ]
    },
    {
      "cell_type": "code",
      "execution_count": null,
      "metadata": {
        "id": "aqc_iSboKBSF"
      },
      "outputs": [],
      "source": [
        "'''\n",
        "import pandas as pd\n",
        "import re\n",
        "\n",
        "df = labels_df\n",
        "\n",
        "# Function to check if a filename is valid\n",
        "def is_valid_filename(filename):\n",
        "    pattern = r'^\\d{6}\\.jpg$'  # Regular expression for \"000001.jpg\" format\n",
        "    return re.match(pattern, filename) is not None\n",
        "\n",
        "# Check for invalid filenames\n",
        "invalid_filenames = df[~df['Filename'].apply(is_valid_filename)]\n",
        "\n",
        "# Print rows with invalid filenames\n",
        "for index, row in invalid_filenames.iterrows():\n",
        "    print(f\"Invalid filename '{row['Filename']}' in row {index + 1}\")\n",
        "\n",
        "# If you want to remove rows with invalid filenames from the DataFrame, you can use the following line\n",
        "# df = df[df['Filename'].apply(is_valid_filename)]\n",
        "'''"
      ]
    },
    {
      "cell_type": "code",
      "execution_count": null,
      "metadata": {
        "id": "kZed-TvEDu9n"
      },
      "outputs": [],
      "source": [
        "# Define list of class names (subset of the classes listed in `list_attr_celeba.txt`)\n",
        "class_names = [\"High_Cheekbones\", \"Mouth_Slightly_Open\", \"Smiling\"]\n",
        "\n",
        "# Reproducability\n",
        "def set_seed(seed=31415):\n",
        "    np.random.seed(seed)\n",
        "    tf.random.set_seed(seed)\n",
        "    os.environ['PYTHONHASHSEED'] = str(seed)\n",
        "set_seed()\n",
        "\n",
        "def custom_augmentation(np_tensor):\n",
        "\n",
        "  def random_contrast(np_tensor):\n",
        "    return tf.image.random_contrast(np_tensor, 0.5, 2)\n",
        "\n",
        "  augmnted_tensor = random_contrast(np_tensor)\n",
        "  return np.array(augmnted_tensor)\n",
        "\n",
        "# Load training and validation sets\n",
        "datagen=ImageDataGenerator(rescale=1./255.,\n",
        "                          rotation_range=180,\n",
        "                          horizontal_flip=True,\n",
        "                          vertical_flip=True,\n",
        "                          preprocessing_function=custom_augmentation)\n",
        "valid_datagen=ImageDataGenerator(rescale=1./255.,\n",
        "                                rotation_range=180,\n",
        "                                horizontal_flip=True,\n",
        "                                vertical_flip=True,\n",
        "                                preprocessing_function=custom_augmentation)\n",
        "test_datagen=ImageDataGenerator(rescale=1./255.)\n",
        "\n",
        "train_generator = datagen.flow_from_dataframe(\n",
        "    dataframe=train,\n",
        "    directory=img_dir,\n",
        "    x_col='Filename',\n",
        "    y_col=class_names,\n",
        "    save_format='jpg',\n",
        "    batch_size=30,\n",
        "    seed=27,\n",
        "    shuffle=True,\n",
        "    class_mode=\"raw\",\n",
        "    target_size=(178, 178)\n",
        ")\n",
        "\n",
        "valid_generator = valid_datagen.flow_from_dataframe(\n",
        "    dataframe=valid,\n",
        "    directory=img_dir,\n",
        "    x_col='Filename',\n",
        "    y_col=class_names,\n",
        "    save_format='jpg',\n",
        "    batch_size=30,\n",
        "    seed=9,\n",
        "    shuffle=True,\n",
        "    class_mode=\"raw\",\n",
        "    target_size=(178, 178)\n",
        ")\n",
        "\n",
        "test_generator = test_datagen.flow_from_dataframe(\n",
        "    dataframe=test,\n",
        "    directory=img_dir,\n",
        "    x_col='Filename',\n",
        "    #y_col=class_names,\n",
        "    batch_size=15,\n",
        "    seed=3,\n",
        "    shuffle=False,\n",
        "    class_mode=None,\n",
        "    target_size=(178, 178)\n",
        ")\n",
        "\n",
        "# Data Pipeline\n",
        "def convert_to_float(image, label):\n",
        "    image = tf.image.convert_image_dtype(image, dtype=tf.float32)\n",
        "    return image, label\n",
        "\n",
        "AUTOTUNE = tf.data.experimental.AUTOTUNE\n",
        "ds_train = tf.data.Dataset.from_generator(\n",
        "    lambda: train_generator,\n",
        "    output_types=(tf.float32, tf.float32),\n",
        "    output_shapes=([30, 178, 178, 3], [None, len(class_names)])\n",
        ").map(convert_to_float).cache().prefetch(buffer_size=AUTOTUNE)\n",
        "\n",
        "ds_valid = tf.data.Dataset.from_generator(\n",
        "    lambda: valid_generator,\n",
        "    output_types=(tf.float32, tf.float32),\n",
        "    output_shapes=([30, 178, 178, 3], [None, len(class_names)])\n",
        ").map(convert_to_float).cache().prefetch(buffer_size=AUTOTUNE)\n"
      ]
    },
    {
      "cell_type": "code",
      "execution_count": null,
      "metadata": {
        "id": "kJrQ6GS3eZi_"
      },
      "outputs": [],
      "source": [
        "import tensorflow.keras.backend as K\n",
        "K.clear_session()"
      ]
    },
    {
      "cell_type": "code",
      "execution_count": null,
      "metadata": {
        "id": "q9jPf9OsuzrX"
      },
      "outputs": [],
      "source": [
        "from tensorflow.keras.models import Model\n",
        "from tensorflow.keras.layers import Input, GlobalAveragePooling2D, Dense\n",
        "from tensorflow.keras.constraints import MaxNorm\n",
        "from tensorflow.keras.layers import Conv2D, MaxPooling2D, Dropout, Flatten, Dense, BatchNormalization\n",
        "\n",
        "input_tensor = Input(shape=(178, 178, 3), name='input_01')\n",
        "x = Conv2D(32, (3, 3), activation='relu', name='block_1_conv_1')(input_tensor) # output shape (None, 176, 176, 32)\n",
        "x = BatchNormalization(name='block_1_batchNorm')(x) # output shape (None, 174, 174, 32)\n",
        "x = MaxPooling2D((2, 2), name='block_1_maxPooling')(x) # output shape (None, 87, 87, 32)\n",
        "x = Dropout(0.25, name='block_1_dropout')(x) # output shape (None, 87, 87, 32)\n",
        "\n",
        "x = Conv2D(64, (3, 3), activation='relu', name='block_2_conv_1')(x) # output shape (None, 85, 85, 64)\n",
        "x = BatchNormalization(name='block_2_batchNorm')(x) # output shape (None, 85, 85, 64)\n",
        "x = MaxPooling2D((2, 2), name='block_2_maxPooling')(x) # output shape (None, 42, 42, 64)\n",
        "x = Dropout(0.25, name='block_2_dropout')(x) # output shape (None, 42, 42, 64)\n",
        "\n",
        "x = Conv2D(128, (3, 3), activation='relu', name='block_3_conv_1')(x) # output shape (None, 40, 40, 128)\n",
        "x = BatchNormalization(name='block_3_batchNorm')(x) # output shape (None, 40, 40, 128)\n",
        "x = MaxPooling2D((2, 2), name='block_3_maxPooling')(x) # output shape (None, 20, 20, 128)\n",
        "x = Dropout(0.30, name='block_3_dropout')(x) # output shape (None, 20, 20, 128)\n",
        "\n",
        "x = Conv2D(256, (3, 3), activation='relu', name='block_4_conv_1')(x) # output shape (None, 18, 18, 256)\n",
        "x = Conv2D(256, (5, 5), activation='relu', name='block_4_conv_2')(x) # output shape (None, 14, 14, 256)\n",
        "x = BatchNormalization(name='block_4_batchNorm')(x) # output shape (None, 14, 14, 256)\n",
        "x = MaxPooling2D((2, 2), name='block_4_maxPooling')(x) # output shape (None, 7, 7, 256)\n",
        "x = Dropout(0.35, name='block_4_dropout')(x) # output shape (None, 7, 7, 256)\n",
        "\n",
        "x = Flatten(name='Flatten')(x) # output shape (None, 12544)\n",
        "#x = GlobalAveragePooling2D()(x) # output shape (None, 256)\n",
        "\n",
        "x = Dense(1024, activation='relu', name='fc_1')(x) # output shape (None, 1024)\n",
        "x = BatchNormalization(name='fc_batchNorm')(x) # output shape (None, 1024)\n",
        "x = Dropout(0.50, name='block_5_dropout')(x) # output shape (None, 1024)\n",
        "\n",
        "output1 = Dense(1, activation='sigmoid', name='High_Cheekbones')(x) # output shape (None, 1)\n",
        "output2 = Dense(1, activation='sigmoid', name='Mouth_Slightly_Open')(x) # output shape (None, 1)\n",
        "output3 = Dense(1, activation='sigmoid', name='Smiling')(x)   # output shape (None, 1)\n",
        "\n",
        "model = Model(inputs=input_tensor, outputs=[output1, output2, output3], name='Custom_Image_Arch')\n",
        "\n",
        "# same rate as fine-tuning VGG16\n",
        "base_learning_rate = 0.001\n",
        "\n",
        "# Compile the model\n",
        "model.compile(\n",
        "    optimizer=tf.keras.optimizers.Adam(learning_rate=base_learning_rate),\n",
        "    loss={'High_Cheekbones': 'binary_crossentropy', 'Mouth_Slightly_Open': 'binary_crossentropy', 'Smiling': 'binary_crossentropy'},\n",
        "    metrics=['accuracy']\n",
        ")\n",
        "\n",
        "# Print model summary\n",
        "model.summary()"
      ]
    },
    {
      "cell_type": "code",
      "execution_count": null,
      "metadata": {
        "id": "3X0ZOi4QXAP9"
      },
      "outputs": [],
      "source": [
        "model.summary()"
      ]
    },
    {
      "cell_type": "code",
      "execution_count": null,
      "metadata": {
        "id": "CR3Yj_3vW258"
      },
      "outputs": [],
      "source": [
        "tf.keras.utils.plot_model(model, show_shapes=True)"
      ]
    },
    {
      "cell_type": "code",
      "execution_count": null,
      "metadata": {
        "id": "485QeJ21xYEb"
      },
      "outputs": [],
      "source": [
        "# save model summary to file\n",
        "with open('/content/drive/My Drive/CelebA/Saved_models/Custom_Convo_Model_3_Classes/metrics/14639683_summary.txt','w') as fh:\n",
        "    # Pass the file handle in as a lambda function to make it callable\n",
        "    model.summary(print_fn=lambda x: fh.write(x + '\\n'))"
      ]
    },
    {
      "cell_type": "code",
      "execution_count": null,
      "metadata": {
        "id": "UqTlVBE5vDTm"
      },
      "outputs": [],
      "source": [
        "tf.keras.utils.plot_model(model, show_shapes=True)"
      ]
    },
    {
      "cell_type": "code",
      "execution_count": null,
      "metadata": {
        "id": "JAPLgvo2jh6e"
      },
      "outputs": [],
      "source": [
        "from tensorflow.keras.callbacks import ModelCheckpoint\n",
        "from tensorflow.keras.callbacks import EarlyStopping\n",
        "\n",
        "check_save_dir = '/content/drive/My Drive/CelebA/Custom_Convo_Model_3_Classes_Checkpoints/Checkpoints_Uncropped/'\n",
        "gc.enable()\n",
        "\n",
        "checkpoint = ModelCheckpoint(\n",
        "    check_save_dir,\n",
        "    save_weights_only=False,\n",
        "    save_best_only=True,\n",
        "    monitor='loss',\n",
        "    mode='min',\n",
        "    verbose=1\n",
        "    )\n",
        "\n",
        "# define early stopping callback\n",
        "early_stopping = EarlyStopping(\n",
        "    monitor='loss', # metric to monitor for early stopping\n",
        "    patience=3, # number of epochs to wait before stopping\n",
        "    restore_best_weights=True, # restore the best model weights found during training\n",
        ")"
      ]
    },
    {
      "cell_type": "code",
      "execution_count": null,
      "metadata": {
        "id": "y4ISbZCwryRO"
      },
      "outputs": [],
      "source": [
        "def generator_wrapper(dataset):\n",
        "    for batch_x, batch_y in dataset:\n",
        "        yield (batch_x, [batch_y[:, i] for i in range(3)])\n",
        "\n",
        "ds_train_wrapped = generator_wrapper(ds_train)\n",
        "ds_valid_wrapped = generator_wrapper(ds_valid)"
      ]
    },
    {
      "cell_type": "code",
      "execution_count": null,
      "metadata": {
        "id": "3qn_aP5yKlxf"
      },
      "outputs": [],
      "source": [
        "%cd drive/My Drive/CelebA"
      ]
    },
    {
      "cell_type": "code",
      "execution_count": null,
      "metadata": {
        "id": "bnbTpgq1Pill"
      },
      "outputs": [],
      "source": [
        "model.load_weights('./Checkpoints_3_Classes/')"
      ]
    },
    {
      "cell_type": "markdown",
      "metadata": {
        "id": "5CtiwMoKSRCJ"
      },
      "source": [
        "Train Data: 6,300 rows   \n",
        "Train Batch Size: 30 images  \n",
        "Train Step Size = $6300/30 = 210$  \n",
        "\n",
        "-------\n",
        "Valid Data: 2160 rows  \n",
        "Valid Batch Size: 30 images  \n",
        "Valid Step Size: $2160 / 30 = 72$  "
      ]
    },
    {
      "cell_type": "code",
      "execution_count": null,
      "metadata": {
        "id": "PJa6-jricD4w"
      },
      "outputs": [],
      "source": [
        "history = model.fit(\n",
        "                    ds_train_wrapped,\n",
        "                    epochs=8,\n",
        "                    validation_data=ds_valid_wrapped,\n",
        "                    batch_size=30,\n",
        "                    steps_per_epoch=210,\n",
        "                    validation_steps=72,\n",
        "                    verbose=1,\n",
        "                    callbacks=[checkpoint, early_stopping])\n",
        "\n",
        "tf.keras.saving.save_model(\n",
        "    model, './Saved_models/Custom_Convo_Model_3_Classes/8E_uncropped', overwrite=False, save_format='tf',\n",
        ")\n",
        "history_frame = pd.DataFrame(history.history)\n",
        "history_frame.to_csv('/content/drive/My Drive/CelebA/Saved_models/Custom_Convo_Model_3_Classes/metrics/8E_uncropped.csv', index=False)"
      ]
    },
    {
      "cell_type": "code",
      "execution_count": null,
      "metadata": {
        "id": "5d-RMOoSxidG"
      },
      "outputs": [],
      "source": [
        "gc.collect()"
      ]
    },
    {
      "cell_type": "code",
      "execution_count": null,
      "metadata": {
        "id": "Er2a0WPHH7tk"
      },
      "outputs": [],
      "source": [
        "tf.keras.saving.save_model(\n",
        "    model, './Saved_models/Custom_Convo_Model_3_Classes/8_epochs_uncropped', overwrite=False, save_format='tf',\n",
        ")"
      ]
    },
    {
      "cell_type": "code",
      "execution_count": null,
      "metadata": {
        "id": "yBQ3xuX1cPpO"
      },
      "outputs": [],
      "source": [
        "reconstructed_model = keras.models.load_model(\"./Saved_models/Custom_Convo_Model_3_Classes/8E_uncropped\")"
      ]
    },
    {
      "cell_type": "code",
      "execution_count": null,
      "metadata": {
        "id": "5YeSysLydJgI"
      },
      "outputs": [],
      "source": [
        "reconstructed_model.summary()"
      ]
    },
    {
      "cell_type": "code",
      "execution_count": null,
      "metadata": {
        "id": "MkEUOEnNHiGN"
      },
      "outputs": [],
      "source": [
        "reconstructed_model.load_weights('./Checkpoints/')"
      ]
    },
    {
      "cell_type": "code",
      "execution_count": null,
      "metadata": {
        "id": "8FoM-unmcola"
      },
      "outputs": [],
      "source": [
        "history = reconstructed_model.fit(\n",
        "                    ds_train_wrapped,\n",
        "                    epochs=4,\n",
        "                    validation_data=ds_valid_wrapped,\n",
        "                    batch_size=30,\n",
        "                    steps_per_epoch=210,\n",
        "                    validation_steps=72,\n",
        "                    verbose=1,\n",
        "                    callbacks=[checkpoint, early_stopping])\n",
        "\n",
        "tf.keras.saving.save_model(\n",
        "    reconstructed_model, './Saved_models/Custom_Convo_Model_3_Classes/8+4+4E_uncropped', overwrite=False, save_format='tf',\n",
        ")\n",
        "history_frame = pd.DataFrame(history.history)\n",
        "history_frame.to_csv('/content/drive/My Drive/CelebA/Saved_models/Custom_Convo_Model_3_Classes/metrics/8+4+4E_uncropped.csv', index=False)"
      ]
    },
    {
      "cell_type": "code",
      "execution_count": null,
      "metadata": {
        "id": "I5XEPUEJGyGv"
      },
      "outputs": [],
      "source": [
        "tf.keras.saving.save_model(\n",
        "    reconstructed_model, './Saved_models/Custom_Convo_Model_3_Classes/8+4_epochs_uncropped', overwrite=False, save_format='tf',\n",
        ")"
      ]
    },
    {
      "cell_type": "code",
      "execution_count": null,
      "metadata": {
        "id": "FkBBF6S2XiPl"
      },
      "outputs": [],
      "source": [
        "# set Matplotlib defaults\n",
        "plt.rc('figure', autolayout=True)\n",
        "plt.rc('axes', labelweight='bold', labelsize='large',\n",
        "       titleweight='bold', titlesize=16, titlepad=10)\n",
        "plt.rc('image', cmap='magma')\n",
        "warnings.filterwarnings(\"ignore\")\n",
        "\n"
      ]
    },
    {
      "cell_type": "code",
      "execution_count": null,
      "metadata": {
        "id": "9SRpVlCXXpCG"
      },
      "outputs": [],
      "source": [
        "test_generator.reset()"
      ]
    },
    {
      "cell_type": "code",
      "execution_count": null,
      "metadata": {
        "id": "O2nzcC3QM8gQ"
      },
      "outputs": [],
      "source": [
        "evaluation_results = model.evaluate(test_generator, verbose=1)"
      ]
    },
    {
      "cell_type": "code",
      "execution_count": null,
      "metadata": {
        "id": "iRrfrIOtODZs"
      },
      "outputs": [],
      "source": [
        "\n",
        "print(evaluation_results[0:])"
      ]
    },
    {
      "cell_type": "code",
      "execution_count": null,
      "metadata": {
        "id": "emwZS0SbXmE1"
      },
      "outputs": [],
      "source": [
        "batch = test_generator.next()  # Get the next batch of 15 images\n",
        "predictions = reconstructed_model.predict(batch)"
      ]
    },
    {
      "cell_type": "code",
      "execution_count": null,
      "metadata": {
        "id": "p6zmv1UyII1g"
      },
      "outputs": [],
      "source": [
        "from PIL import Image\n",
        "import os\n",
        "import matplotlib.pyplot as plt\n",
        "import numpy as np\n",
        "import textwrap\n",
        "\n",
        "class_names = [\"High_Cheekbones\", \"Mouth_Slightly_Open\", \"Smiling\"]\n",
        "\n",
        "filenames = test['Filename'][:15]\n",
        "\n",
        "\n",
        "plt.figure(figsize=(18, 16))\n",
        "\n",
        "for i in range(15):\n",
        "    image_preds = [predictions[j][i] for j in range(3)]\n",
        "    class_percentages = ['%.2f' % (pred * 100) + '%' for pred in image_preds]\n",
        "    xLabel = f\"{class_names[0]}, {class_percentages[0]}; {class_names[1]}, {class_percentages[1]}; {class_names[2]}, {class_percentages[2]}\"\n",
        "\n",
        "    wrapped_label = '\\n'.join(textwrap.wrap(xLabel, width=30))\n",
        "    plt.subplot(5, 3, i + 1)  # Changed to 5 rows and 3 columns for 15 images\n",
        "    plt.xticks([])\n",
        "    plt.yticks([])\n",
        "    plt.grid(False)\n",
        "    plt.imshow(Image.open(os.path.join(img_dir, filenames.iloc[i])))\n",
        "    plt.xlabel(wrapped_label, fontsize=8)\n",
        "\n",
        "plt.tight_layout()\n",
        "plt.show()\n"
      ]
    },
    {
      "cell_type": "code",
      "execution_count": null,
      "metadata": {
        "id": "rpGpMZ3HfDza"
      },
      "outputs": [],
      "source": [
        "print(history_frame)\n",
        "history_frame.to_csv('/content/drive/My Drive/CelebA/Saved_models/VGG16_Transfer_3_Classes/metrics/8_epochs_uncropped.csv', index=False)"
      ]
    },
    {
      "cell_type": "code",
      "execution_count": null,
      "metadata": {
        "id": "ZufnzIZvcSjS"
      },
      "outputs": [],
      "source": [
        "\n",
        "history_frame.loc[:, [\n",
        "                  'val_High_Cheekbones_accuracy',\n",
        "                  'val_Smiling_accuracy',\n",
        "                  'val_Mouth_Slightly_Open_accuracy',\n",
        "                     ]].plot()\n",
        "plt.xlabel('Epochs')\n",
        "plt.ylabel('Validation Accuracy')\n",
        "plt.legend(loc='center left')\n",
        "plt.show()"
      ]
    },
    {
      "cell_type": "code",
      "execution_count": null,
      "metadata": {
        "id": "T8oRUY9BvrMd"
      },
      "outputs": [],
      "source": [
        "val_accuracies = []\n",
        "for col_name in history_frame.columns:\n",
        "    if col_name.startswith('val_') and col_name.endswith('accuracy'):\n",
        "        val_accuracies.append(history_frame[col_name])\n"
      ]
    },
    {
      "cell_type": "code",
      "execution_count": null,
      "metadata": {
        "id": "iDUkgN563yrU"
      },
      "outputs": [],
      "source": [
        "val_losses = []\n",
        "for col_name in history_frame.columns:\n",
        "    if col_name.startswith('val_') and col_name.endswith('loss'):\n",
        "        val_losses.append(history_frame[col_name])"
      ]
    },
    {
      "cell_type": "code",
      "execution_count": null,
      "metadata": {
        "id": "nmLwNVdhumX1"
      },
      "outputs": [],
      "source": [
        "import numpy as np\n",
        "avg_val_losses = np.mean(val_losses, axis=0)\n",
        "avg_val_accuracies = np.mean(val_accuracies, axis=0)"
      ]
    },
    {
      "cell_type": "code",
      "execution_count": null,
      "metadata": {
        "id": "qSNoYkxbupD8"
      },
      "outputs": [],
      "source": [
        "import matplotlib.pyplot as plt\n",
        "plt.plot(avg_val_losses)\n",
        "plt.title('Average Validation Loss. vs. Epochs (epochs 1-8)')\n",
        "plt.xlabel('Epochs')\n",
        "plt.ylabel('Average Validation Loss')\n",
        "plt.show()\n",
        "\n",
        "plt.plot(avg_val_accuracies)\n",
        "plt.title('Average Validation Acc. vs. Epochs (epochs 1-8)')\n",
        "plt.xlabel('Epochs')\n",
        "plt.ylabel('Average Validation Accuracy')\n",
        "plt.show()\n"
      ]
    },
    {
      "cell_type": "code",
      "execution_count": null,
      "metadata": {
        "id": "piwzRwmI-WKP"
      },
      "outputs": [],
      "source": []
    }
  ],
  "metadata": {
    "accelerator": "GPU",
    "colab": {
      "gpuType": "T4",
      "machine_shape": "hm",
      "private_outputs": true,
      "provenance": []
    },
    "kernelspec": {
      "display_name": "Python 3",
      "name": "python3"
    },
    "language_info": {
      "name": "python"
    }
  },
  "nbformat": 4,
  "nbformat_minor": 0
}
