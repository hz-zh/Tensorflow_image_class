{
  "cells": [
    {
      "cell_type": "code",
      "execution_count": 1,
      "metadata": {
        "colab": {
          "base_uri": "https://localhost:8080/"
        },
        "id": "18hgS3Ulj6v6",
        "outputId": "f6ed9113-9c77-4650-9980-5d326bfdf881"
      },
      "outputs": [
        {
          "output_type": "stream",
          "name": "stdout",
          "text": [
            "Mounted at /content/drive\n",
            "Checkpoints\n"
          ]
        }
      ],
      "source": [
        "# connect Google Drive\n",
        "from google.colab import drive\n",
        "drive.mount('/content/drive')\n",
        "\n",
        "# Drive Connection\n",
        "import os\n",
        "os.chdir('/content/drive/My Drive/MNIST/')\n",
        "!ls"
      ]
    },
    {
      "cell_type": "code",
      "source": [
        "%pwd"
      ],
      "metadata": {
        "colab": {
          "base_uri": "https://localhost:8080/",
          "height": 35
        },
        "id": "w9VR6YfblcEv",
        "outputId": "fc8a1e88-59a6-4701-ab48-4207dd0a8324"
      },
      "execution_count": 2,
      "outputs": [
        {
          "output_type": "execute_result",
          "data": {
            "text/plain": [
              "'/content/drive/My Drive/MNIST'"
            ],
            "application/vnd.google.colaboratory.intrinsic+json": {
              "type": "string"
            }
          },
          "metadata": {},
          "execution_count": 2
        }
      ]
    },
    {
      "cell_type": "code",
      "execution_count": null,
      "metadata": {
        "id": "dv5OE0Xuj6v_"
      },
      "outputs": [],
      "source": [
        "# Import Libraries\n",
        "import tensorflow as tf\n",
        "from tensorflow import keras\n",
        "# More up-to-date versions of Keras\n",
        "%pip install git+https://github.com/keras-team/keras-preprocessing.git\n",
        "from tensorflow.keras.preprocessing import image_dataset_from_directory\n",
        "from keras_preprocessing.image import ImageDataGenerator\n",
        "from tensorflow.keras.models import Model\n",
        "from tensorflow.keras.layers import Input, GlobalAveragePooling2D, Conv2D, MaxPooling2D, Dropout, Flatten, Dense, BatchNormalization\n",
        "from tensorflow.keras.constraints import MaxNorm\n",
        "from tensorflow.keras.layers.experimental import preprocessing\n",
        "from tensorflow.keras.utils import to_categorical\n",
        "from tensorflow.keras.callbacks import ModelCheckpoint\n",
        "from tensorflow.keras.callbacks import EarlyStopping\n",
        "\n",
        "# import MNIST dataset\n",
        "from tensorflow.keras.datasets import mnist\n",
        "\n",
        "from sklearn.model_selection import train_test_split\n",
        "import os, warnings\n",
        "import matplotlib.pyplot as plt\n",
        "import cv2\n",
        "import numpy as np\n",
        "import pandas as pd"
      ]
    },
    {
      "cell_type": "code",
      "source": [
        "(x_train, y_train), (x_test, y_test) = mnist.load_data()"
      ],
      "metadata": {
        "colab": {
          "base_uri": "https://localhost:8080/"
        },
        "id": "bdfw8Epd36kj",
        "outputId": "0d95da3d-83ea-44fe-d9a3-a48101f2e2bb"
      },
      "execution_count": 4,
      "outputs": [
        {
          "output_type": "stream",
          "name": "stdout",
          "text": [
            "Downloading data from https://storage.googleapis.com/tensorflow/tf-keras-datasets/mnist.npz\n",
            "11490434/11490434 [==============================] - 0s 0us/step\n"
          ]
        }
      ]
    },
    {
      "cell_type": "code",
      "execution_count": 5,
      "metadata": {
        "colab": {
          "base_uri": "https://localhost:8080/"
        },
        "id": "MnCoDpGJj6wB",
        "outputId": "e198a632-c84d-454c-e846-b656b741a8b9"
      },
      "outputs": [
        {
          "output_type": "stream",
          "name": "stdout",
          "text": [
            "(60000, 28, 28) (60000, 10) (10000, 28, 28) (10000, 10)\n"
          ]
        }
      ],
      "source": [
        "\n",
        "# Load and preprocess the MNIST dataset\n",
        "(x_train, y_train), (x_test, y_test) = mnist.load_data()\n",
        "x_train, x_test = x_train / 255.0, x_test / 255.0  # Normalize pixel values to be between 0 and 1\n",
        "y_train, y_test = to_categorical(y_train, 10), to_categorical(y_test, 10)  # One-hot encode labels\n",
        "\n",
        "# Reshape the data to include a channel dimension (required for Conv2D layers)\n",
        "#x_train = x_train.reshape(x_train.shape[0], 28, 28, 1)\n",
        "#x_test = x_test.reshape(x_test.shape[0], 28,28, 1)\n",
        "\n",
        "print(x_train.shape, y_train.shape, x_test.shape, y_test.shape)\n",
        "\n",
        "\n",
        "# Create data generators for training and validation sets with autotune\n",
        "train_data = tf.data.Dataset.from_tensor_slices((x_train, y_train))\n",
        "train_data = train_data.shuffle(buffer_size=60000).batch(32).prefetch(buffer_size=tf.data.experimental.AUTOTUNE)\n",
        "\n",
        "validation_data = tf.data.Dataset.from_tensor_slices((x_test, y_test))\n",
        "validation_data = validation_data.batch(32).prefetch(buffer_size=tf.data.experimental.AUTOTUNE)\n",
        "\n"
      ]
    },
    {
      "cell_type": "code",
      "source": [],
      "metadata": {
        "id": "uKhzAb4W3h5H"
      },
      "execution_count": 5,
      "outputs": []
    },
    {
      "cell_type": "code",
      "source": [
        "\n",
        "for batch in validation_data.take(1):\n",
        "  images, labels = batch\n",
        "  print(\"Image shape:\", images.shape)\n",
        "  print(\"Label shape:\", labels.shape)\n",
        "\n"
      ],
      "metadata": {
        "colab": {
          "base_uri": "https://localhost:8080/"
        },
        "id": "q9Ri3YZYpvxe",
        "outputId": "2486c5c2-0318-43f8-fa42-b798322bb39d"
      },
      "execution_count": 6,
      "outputs": [
        {
          "output_type": "stream",
          "name": "stdout",
          "text": [
            "Image shape: (32, 28, 28)\n",
            "Label shape: (32, 10)\n"
          ]
        }
      ]
    },
    {
      "cell_type": "code",
      "source": [
        "\n",
        "batch = next(iter(train_data))\n",
        "images, labels = batch\n",
        "plt.imshow(images[0], cmap='gray')\n",
        "plt.title(f\"Label: {np.argmax(labels[0])}\")\n",
        "plt.show()\n"
      ],
      "metadata": {
        "colab": {
          "base_uri": "https://localhost:8080/",
          "height": 452
        },
        "id": "h3zzn0eK2DBj",
        "outputId": "2503682c-b3cc-4213-d707-6594a9df7564"
      },
      "execution_count": 7,
      "outputs": [
        {
          "output_type": "display_data",
          "data": {
            "text/plain": [
              "<Figure size 640x480 with 1 Axes>"
            ],
            "image/png": "[encoded data removed]"
          },
          "metadata": {}
        }
      ]
    },
    {
      "cell_type": "code",
      "execution_count": 8,
      "metadata": {
        "id": "sXEY2xzKj6wD"
      },
      "outputs": [],
      "source": [
        "# Model\n",
        "inputs = Input(shape=(28, 28, 1))\n",
        "x = Conv2D(16, (3, 3), activation='relu', padding='same')(inputs) # output shape: (28, 28, 16)\n",
        "x = Conv2D(16, (3, 3), activation='relu', padding='same')(x) # output shape: (28, 28, 16)\n",
        "x = BatchNormalization()(x) # output shape: (28, 28, 16)\n",
        "x = MaxPooling2D((2, 2))(x) # output shape: (14, 14, 16)\n",
        "x = Dropout(0.2)(x) # output shape: (14, 14, 16)\n",
        "\n",
        "x = Conv2D(32, (3, 3), activation='relu', padding='same')(x) # output shape: (14, 14, 32)\n",
        "x = Conv2D(32, (3, 3), activation='relu', padding='same')(x) # output shape: (14, 14, 32)\n",
        "x = BatchNormalization()(x) # output shape: (14, 14, 32)\n",
        "x = MaxPooling2D((2, 2))(x) # output shape: (7, 7, 32)\n",
        "x = Dropout(0.2)(x) # output shape: (7, 7, 32)\n",
        "\n",
        "x = Flatten()(x) # output shape: (1568)\n",
        "\n",
        "x = Dense(128, activation='relu')(x) # output shape: (128)\n",
        "x = BatchNormalization()(x) # output shape: (128)\n",
        "x = Dropout(0.2)(x) # output shape: (128)\n",
        "\n",
        "outputs = Dense(10, activation='softmax')(x) # output shape: (10)\n"
      ]
    },
    {
      "cell_type": "code",
      "execution_count": 9,
      "metadata": {
        "id": "kZjCJjy0j6wD"
      },
      "outputs": [],
      "source": [
        "# compile the model\n",
        "model = Model(inputs, outputs)\n",
        "model.compile(\n",
        "   optimizer='adam',\n",
        "   loss='categorical_crossentropy',\n",
        "   metrics=['accuracy'])"
      ]
    },
    {
      "cell_type": "code",
      "source": [
        "model.summary()"
      ],
      "metadata": {
        "colab": {
          "base_uri": "https://localhost:8080/"
        },
        "id": "B9bxwQrjMk0M",
        "outputId": "5a50c6fc-c7ae-46b9-c7eb-222b1acd18b2"
      },
      "execution_count": 18,
      "outputs": [
        {
          "output_type": "stream",
          "name": "stdout",
          "text": [
            "Model: \"model\"\n",
            "_________________________________________________________________\n",
            " Layer (type)                Output Shape              Param #   \n",
            "=================================================================\n",
            " input_1 (InputLayer)        [(None, 28, 28, 1)]       0         \n",
            "                                                                 \n",
            " conv2d (Conv2D)             (None, 28, 28, 16)        160       \n",
            "                                                                 \n",
            " conv2d_1 (Conv2D)           (None, 28, 28, 16)        2320      \n",
            "                                                                 \n",
            " batch_normalization (Batch  (None, 28, 28, 16)        64        \n",
            " Normalization)                                                  \n",
            "                                                                 \n",
            " max_pooling2d (MaxPooling2  (None, 14, 14, 16)        0         \n",
            " D)                                                              \n",
            "                                                                 \n",
            " dropout (Dropout)           (None, 14, 14, 16)        0         \n",
            "                                                                 \n",
            " conv2d_2 (Conv2D)           (None, 14, 14, 32)        4640      \n",
            "                                                                 \n",
            " conv2d_3 (Conv2D)           (None, 14, 14, 32)        9248      \n",
            "                                                                 \n",
            " batch_normalization_1 (Bat  (None, 14, 14, 32)        128       \n",
            " chNormalization)                                                \n",
            "                                                                 \n",
            " max_pooling2d_1 (MaxPoolin  (None, 7, 7, 32)          0         \n",
            " g2D)                                                            \n",
            "                                                                 \n",
            " dropout_1 (Dropout)         (None, 7, 7, 32)          0         \n",
            "                                                                 \n",
            " flatten (Flatten)           (None, 1568)              0         \n",
            "                                                                 \n",
            " dense (Dense)               (None, 128)               200832    \n",
            "                                                                 \n",
            " batch_normalization_2 (Bat  (None, 128)               512       \n",
            " chNormalization)                                                \n",
            "                                                                 \n",
            " dropout_2 (Dropout)         (None, 128)               0         \n",
            "                                                                 \n",
            " dense_1 (Dense)             (None, 10)                1290      \n",
            "                                                                 \n",
            "=================================================================\n",
            "Total params: 219194 (856.23 KB)\n",
            "Trainable params: 218842 (854.85 KB)\n",
            "Non-trainable params: 352 (1.38 KB)\n",
            "_________________________________________________________________\n"
          ]
        }
      ]
    },
    {
      "cell_type": "code",
      "source": [
        "tf.keras.utils.plot_model(model, show_shapes=True)"
      ],
      "metadata": {
        "id": "_iObFs5ROBXu"
      },
      "execution_count": null,
      "outputs": []
    },
    {
      "cell_type": "code",
      "execution_count": 23,
      "metadata": {
        "id": "L-fIEXavj6wE"
      },
      "outputs": [],
      "source": [
        "# Define the callbacks\n",
        "\n",
        "# define the checkpoint directory to store the checkpoints\n",
        "check_save_dir = '/content/drive/My Drive/MNIST/Checkpoints/'\n",
        "# if the checkpoint directory does not exist, create it\n",
        "if not os.path.exists(check_save_dir):\n",
        "    os.makedirs(check_save_dir)\n",
        "\n",
        "# define the checkpoint callback\n",
        "checkpoint = ModelCheckpoint(\n",
        "    check_save_dir,\n",
        "    save_weights_only=False,\n",
        "    save_best_only=True,\n",
        "    monitor='loss',\n",
        "    mode='min',\n",
        "    verbose=1\n",
        "    )\n",
        "\n",
        "# define early stopping callback\n",
        "early_stopping = EarlyStopping(\n",
        "    monitor='loss', # metric to monitor for early stopping\n",
        "    patience=3, # number of epochs to wait before stopping\n",
        "    restore_best_weights=True, # restore the best model weights found during training\n",
        ")"
      ]
    },
    {
      "cell_type": "code",
      "source": [
        "import tensorflow.keras.backend as K\n",
        "K.clear_session()"
      ],
      "metadata": {
        "id": "zysqbH0Pp_y4"
      },
      "execution_count": 11,
      "outputs": []
    },
    {
      "cell_type": "code",
      "execution_count": 25,
      "metadata": {
        "colab": {
          "base_uri": "https://localhost:8080/"
        },
        "id": "zpvi3OV9j6wF",
        "outputId": "47d4c466-6166-458f-f804-861ae059d68f"
      },
      "outputs": [
        {
          "output_type": "stream",
          "name": "stdout",
          "text": [
            "Epoch 21/40\n",
            "1875/1875 [==============================] - ETA: 0s - loss: 0.0122 - accuracy: 0.9960\n",
            "Epoch 21: loss improved from inf to 0.01223, saving model to /content/drive/My Drive/MNIST/Checkpoints/\n",
            "1875/1875 [==============================] - 142s 76ms/step - loss: 0.0122 - accuracy: 0.9960 - val_loss: 0.0156 - val_accuracy: 0.9951\n",
            "Epoch 22/40\n",
            "1875/1875 [==============================] - ETA: 0s - loss: 0.0110 - accuracy: 0.9962\n",
            "Epoch 22: loss improved from 0.01223 to 0.01101, saving model to /content/drive/My Drive/MNIST/Checkpoints/\n",
            "1875/1875 [==============================] - 129s 69ms/step - loss: 0.0110 - accuracy: 0.9962 - val_loss: 0.0168 - val_accuracy: 0.9948\n",
            "Epoch 23/40\n",
            "1875/1875 [==============================] - ETA: 0s - loss: 0.0112 - accuracy: 0.9964\n",
            "Epoch 23: loss did not improve from 0.01101\n",
            "1875/1875 [==============================] - 123s 65ms/step - loss: 0.0112 - accuracy: 0.9964 - val_loss: 0.0172 - val_accuracy: 0.9953\n",
            "Epoch 24/40\n",
            "1875/1875 [==============================] - ETA: 0s - loss: 0.0117 - accuracy: 0.9960\n",
            "Epoch 24: loss did not improve from 0.01101\n",
            "1875/1875 [==============================] - 124s 66ms/step - loss: 0.0117 - accuracy: 0.9960 - val_loss: 0.0179 - val_accuracy: 0.9951\n",
            "Epoch 25/40\n",
            "1875/1875 [==============================] - ETA: 0s - loss: 0.0108 - accuracy: 0.9967\n",
            "Epoch 25: loss improved from 0.01101 to 0.01076, saving model to /content/drive/My Drive/MNIST/Checkpoints/\n",
            "1875/1875 [==============================] - 133s 71ms/step - loss: 0.0108 - accuracy: 0.9967 - val_loss: 0.0152 - val_accuracy: 0.9951\n",
            "Epoch 26/40\n",
            "1875/1875 [==============================] - ETA: 0s - loss: 0.0110 - accuracy: 0.9964\n",
            "Epoch 26: loss did not improve from 0.01076\n",
            "1875/1875 [==============================] - 131s 70ms/step - loss: 0.0110 - accuracy: 0.9964 - val_loss: 0.0178 - val_accuracy: 0.9953\n",
            "Epoch 27/40\n",
            "1875/1875 [==============================] - ETA: 0s - loss: 0.0101 - accuracy: 0.9965\n",
            "Epoch 27: loss improved from 0.01076 to 0.01008, saving model to /content/drive/My Drive/MNIST/Checkpoints/\n",
            "1875/1875 [==============================] - 135s 72ms/step - loss: 0.0101 - accuracy: 0.9965 - val_loss: 0.0167 - val_accuracy: 0.9954\n",
            "Epoch 28/40\n",
            "1875/1875 [==============================] - ETA: 0s - loss: 0.0109 - accuracy: 0.9963\n",
            "Epoch 28: loss did not improve from 0.01008\n",
            "1875/1875 [==============================] - 127s 68ms/step - loss: 0.0109 - accuracy: 0.9963 - val_loss: 0.0160 - val_accuracy: 0.9948\n",
            "Epoch 29/40\n",
            "1875/1875 [==============================] - ETA: 0s - loss: 0.0080 - accuracy: 0.9972\n",
            "Epoch 29: loss improved from 0.01008 to 0.00800, saving model to /content/drive/My Drive/MNIST/Checkpoints/\n",
            "1875/1875 [==============================] - 130s 69ms/step - loss: 0.0080 - accuracy: 0.9972 - val_loss: 0.0214 - val_accuracy: 0.9939\n",
            "Epoch 30/40\n",
            "1875/1875 [==============================] - ETA: 0s - loss: 0.0096 - accuracy: 0.9967\n",
            "Epoch 30: loss did not improve from 0.00800\n",
            "1875/1875 [==============================] - 121s 65ms/step - loss: 0.0096 - accuracy: 0.9967 - val_loss: 0.0226 - val_accuracy: 0.9937\n",
            "Epoch 31/40\n",
            "1875/1875 [==============================] - ETA: 0s - loss: 0.0082 - accuracy: 0.9971\n",
            "Epoch 31: loss did not improve from 0.00800\n",
            "1875/1875 [==============================] - 122s 65ms/step - loss: 0.0082 - accuracy: 0.9971 - val_loss: 0.0189 - val_accuracy: 0.9950\n",
            "Epoch 32/40\n",
            "1875/1875 [==============================] - ETA: 0s - loss: 0.0086 - accuracy: 0.9971\n",
            "Epoch 32: loss did not improve from 0.00800\n",
            "1875/1875 [==============================] - 119s 63ms/step - loss: 0.0086 - accuracy: 0.9971 - val_loss: 0.0210 - val_accuracy: 0.9947\n"
          ]
        }
      ],
      "source": [
        "# fit the model\n",
        "history = model.fit(\n",
        "   train_data,\n",
        "   validation_data=validation_data,\n",
        "   epochs=40,\n",
        "   initial_epoch=20,\n",
        "   batch_size=32,\n",
        "   verbose=1,\n",
        "   callbacks=[checkpoint, early_stopping]\n",
        ")"
      ]
    },
    {
      "cell_type": "code",
      "source": [
        "\n",
        "model_save_dir = '/content/drive/My Drive/MNIST/Model_1_40E/'\n",
        "# if the model directory does not exist, create it\n",
        "if not os.path.exists(model_save_dir):\n",
        "    os.makedirs(model_save_dir)\n",
        "\n",
        "# save the model\n",
        "model.save(model_save_dir)\n",
        "history_df = pd.DataFrame(history.history)\n",
        "history_df.to_csv('/content/drive/My Drive/MNIST/Model_1_40E_metrics.csv')\n"
      ],
      "metadata": {
        "id": "IoF8Uxxd9Zum"
      },
      "execution_count": 27,
      "outputs": []
    },
    {
      "cell_type": "code",
      "source": [
        "# Get the first 15 images and labels from the validation_data generator\n",
        "num_images_to_plot = 30\n",
        "for batch in validation_data.take(1):\n",
        "    images, labels = batch\n",
        "    images_to_plot = images[:num_images_to_plot]\n",
        "    labels_to_plot = labels[:num_images_to_plot]\n",
        "\n",
        "# Make predictions\n",
        "predictions = model.predict(images_to_plot)\n",
        "\n",
        "# Plot the images along with their predictions\n",
        "plt.figure(figsize=(12, 8))\n",
        "for i in range(num_images_to_plot):\n",
        "    plt.subplot(3, 10, i + 1)\n",
        "    plt.imshow(images_to_plot[i], cmap='gray')\n",
        "    predicted_label = np.argmax(predictions[i])\n",
        "    true_label = np.argmax(labels_to_plot[i])\n",
        "    plt.title(f'Predicted: {predicted_label}\\nTrue: {true_label}', fontsize=10)\n",
        "    plt.axis('off')\n",
        "\n",
        "plt.tight_layout()\n",
        "plt.show()\n"
      ],
      "metadata": {
        "colab": {
          "base_uri": "https://localhost:8080/",
          "height": 671
        },
        "id": "6mfqmYdEIV4s",
        "outputId": "387486fe-c0f2-4fc6-a6af-aa802b76067b"
      },
      "execution_count": 30,
      "outputs": [
        {
          "output_type": "stream",
          "name": "stdout",
          "text": [
            "1/1 [==============================] - 0s 60ms/step\n"
          ]
        },
        {
          "output_type": "display_data",
          "data": {
            "text/plain": [
              "<Figure size 1200x800 with 30 Axes>"
            ],
            "image/png": "[encoded data removed]"
          },
          "metadata": {}
        }
      ]
    },
    {
      "cell_type": "code",
      "source": [
        "\n",
        "# Get training history\n",
        "train_loss = history.history['loss']\n",
        "val_loss = history.history['val_loss']\n",
        "val_accuracy = history.history['val_accuracy']\n",
        "\n",
        "# Find the epoch with the highest validation accuracy\n",
        "best_epoch = np.argmax(val_accuracy)\n",
        "best_val_accuracy = val_accuracy[best_epoch]\n",
        "best_val_loss = val_loss[best_epoch]\n",
        "\n",
        "# Plot validation loss vs epochs\n",
        "plt.figure(figsize=(12, 4))\n",
        "plt.subplot(1, 2, 1)\n",
        "plt.plot(range(1, len(train_loss) + 1), val_loss, label='Validation Loss', marker='o', alpha=0.5)\n",
        "plt.scatter(best_epoch + 1, best_val_loss, color='red', label=f'Best: Epoch {best_epoch + 1}\\nVal Loss: {best_val_loss:.4f}', zorder=5)\n",
        "plt.xlabel('Epochs')\n",
        "plt.ylabel('Validation Loss')\n",
        "plt.title('Validation Loss vs Epochs')\n",
        "plt.legend()\n",
        "plt.xticks(np.arange(1, len(train_loss) + 1, 1))  # Set x-axis ticks to breaks by 1\n",
        "\n",
        "# Plot validation accuracy vs epochs\n",
        "plt.subplot(1, 2, 2)\n",
        "plt.plot(range(1, len(train_loss) + 1), val_accuracy, label='Validation Accuracy', marker='o', alpha=0.5)\n",
        "plt.scatter(best_epoch + 1, best_val_accuracy, color='red', label=f'Best: Epoch {best_epoch + 1}\\nVal Acc: {best_val_accuracy:.4f}', zorder=5)\n",
        "plt.xlabel('Epochs')\n",
        "plt.ylabel('Validation Accuracy')\n",
        "plt.title('Validation Accuracy vs Epochs')\n",
        "plt.legend()\n",
        "plt.xticks(np.arange(1, len(train_loss) + 1, 1))  # Set x-axis ticks to breaks by 1\n",
        "\n",
        "plt.tight_layout()\n",
        "plt.show()\n"
      ],
      "metadata": {
        "id": "crWSAGHHJkBj"
      },
      "execution_count": null,
      "outputs": []
    }
  ],
  "metadata": {
    "language_info": {
      "name": "python"
    },
    "colab": {
      "provenance": []
    },
    "kernelspec": {
      "name": "python3",
      "display_name": "Python 3"
    }
  },
  "nbformat": 4,
  "nbformat_minor": 0
}